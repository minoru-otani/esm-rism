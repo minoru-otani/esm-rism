{
 "cells": [
  {
   "cell_type": "markdown",
   "metadata": {
    "toc-hr-collapsed": true
   },
   "source": [
    "# ESM tutorial\n",
    "\n",
    "This tutorial explains how to use the effective screening medium (ESM) method implemented in theUANTUM ESPRESSO distribution. \n",
    "This tutorial consists of the following two parts.  \n",
    "\n",
    "* Example 1: Water molecule  \n",
    "    First, we learn the fundamental option via the calculation of an isolated molecule. \n",
    "\n",
    "* Example 2: Al(111) surface  \n",
    "    Next, we learn the application of ESM method for the material surface.  \n",
    "    \n",
    "Throughout the tutorial, we use Atomic Simulation Enviroment (ASE: https://wiki.fysik.dtu.dk/ase/), which is a Python library for setting up, manipulating, running, visualizing and analyzing atomistic simulations and plane-wave basis sets within pseudopotential framework code QUANTUM ESPRESSO distribution (https://www.quantum-espresso.org).   \n",
    "First of all, we should download the ASE package of Minoru Otani version from his GitLab (https://gitlab.com/minoru-otani/ase) and QUANTUM ESPRESSO distribution (QE) from https://www.quantum-espresso.org. \n",
    "After downloading, you should install the ASE and QE.  \n",
    "If you have the cluster machine or super computer account, accessing to them with the SSH,  \n",
    "QE should be compiled on the remote hosts.  \n",
    "\n",
    "### NOTE\n",
    "* The installation guide for the ASE package can be found on the ASE website (https://wiki.fysik.dtu.dk/ase/install.html).  \n",
    "* PWscf and PP codes are needed to try this tutorial.\n",
    "\n",
    "After installation, run the following two Python scripts on Jupyter notebook: "
   ]
  },
  {
   "cell_type": "code",
   "execution_count": 1,
   "metadata": {
    "pycharm": {
     "is_executing": false
    }
   },
   "outputs": [],
   "source": [
    "%load_ext autoreload\n",
    "%autoreload 2\n",
    "%matplotlib inline\n",
    "#%config InlineBackend.figure_format = 'retina'"
   ]
  },
  {
   "cell_type": "code",
   "execution_count": 2,
   "metadata": {
    "pycharm": {
     "is_executing": false
    }
   },
   "outputs": [],
   "source": [
    "import os\n",
    "import time\n",
    "import numpy as np\n",
    "import datetime as dt\n",
    "import matplotlib.pyplot as plt\n",
    "import qeutil\n",
    "import xml.etree.ElementTree as ET\n",
    "from qeutil import extract_structure_data, write_qe_input, qe_bool, parse_qe_xml, plot_esm1\n",
    "from ase import Atoms\n",
    "from ase.data import atomic_masses, atomic_numbers\n",
    "from ase.io.cube import read_cube_data\n",
    "from ase.visualize import view"
   ]
  },
  {
   "cell_type": "markdown",
   "metadata": {},
   "source": [
    "Now, we finish the preparation for the start of the tutorials. \n",
    "In the next section, we start the Example 1. "
   ]
  },
  {
   "cell_type": "markdown",
   "metadata": {
    "toc-hr-collapsed": true
   },
   "source": [
    "# Example 1: Water molecule\n",
    "\n",
    "Here, we will execute the two calculations:  \n",
    "* Water molecule under the periodic boundary condition (PBC)  \n",
    "* Water molecule using ESM method  \n",
    "\n"
   ]
  },
  {
   "cell_type": "markdown",
   "metadata": {
    "toc-hr-collapsed": true
   },
   "source": [
    "## Water molecule (periodic boundary condition)\n",
    "\n",
    "Here, we recall the drawback of the PBolar-molecule and learn how to use this tutorial.  \n",
    "C calculation for polar molecules\n",
    "First, we calculate H$_2$O molecule using usual DFT calculation under the PBC.  \n",
    "\n",
    "### Determination of project and job information\n",
    "Run the following two Python scripts on your Jupyter Notebook. "
   ]
  },
  {
   "cell_type": "code",
   "execution_count": 3,
   "metadata": {
    "pycharm": {
     "is_executing": false
    }
   },
   "outputs": [],
   "source": [
    "project = 'H2O_pbc'\n",
    "prj_info = {\n",
    "    'project': project,\n",
    "    'projdir': '/Users/otani/Program/q-e',\n",
    "    'prefixes': ['H2O_pbc'],\n",
    "}\n",
    "prj_info['bindir'] = f\"{prj_info['projdir']}/bin\"\n",
    "prj_info['pseudodir'] = f\"{prj_info['projdir']}/pseudo\"\n",
    "prj_info['outdir'] = \"./out\""
   ]
  },
  {
   "cell_type": "code",
   "execution_count": 4,
   "metadata": {
    "pycharm": {
     "is_executing": false
    }
   },
   "outputs": [],
   "source": [
    "job_info = {\n",
    "    'node':     1,   \n",
    "    'mpinum':   28,  \n",
    "    'ompnum':   1,\n",
    "    'cputime':  dt.timedelta(days=0, hours=0, minutes=30),\n",
    "    'para_img': 1,\n",
    "    'para_kpt': 1,\n",
    "    'para_tsk': 1,\n",
    "    'para_bnd': 1,\n",
    "}"
   ]
  },
  {
   "cell_type": "markdown",
   "metadata": {},
   "source": [
    "The first script determines the project name, position of home directry (local host), and prefix of files,  \n",
    "which corresponds to the `prefix` of PWscf inputs, respectively.  \n",
    "The second script determines job-running information.  \n",
    "* `node`: request computational nodes\n",
    "* `mpinum`: the number of mpi procs.\n",
    "* `ompnum`: the number of omp threads.\n",
    "* `cputime`: corresponding to the `max_seconds` value of PWscf inputs. \n",
    "* `para_*`: respectively corresponding to number of divisions for MPI parallel running of PWscf. \n",
    "\n",
    "After runnning above scripts, `program` directry is created below the `/Users/username/`.  \n",
    "The results of this tutorial is summarized in the program directry. "
   ]
  },
  {
   "cell_type": "markdown",
   "metadata": {},
   "source": [
    "### Make input file for PWscf using ASE\n",
    "\n",
    "Thanks to the ASE package, after runnig the following python script, input files for the PWscf is autmatically generated. "
   ]
  },
  {
   "cell_type": "code",
   "execution_count": 5,
   "metadata": {
    "pycharm": {
     "is_executing": false
    }
   },
   "outputs": [
    {
     "name": "stdout",
     "output_type": "stream",
     "text": [
      "Quantum ESPRESSO input file 'H2O_pbc.in' has been generated.\n"
     ]
    }
   ],
   "source": [
    "atoms = Atoms('OH2', [(5.00000000, 5.0000000000, 0.00000000),\n",
    "                      (5.75754080, 5.0000000000, 0.58707964),\n",
    "                      (4.24245910, 5.0000000000, 0.58707964)], \n",
    "             cell=[(10.0000000000,  0.0000000000,  0.0000000000),\n",
    "                   ( 0.0000000000, 10.0000000000,  0.0000000000),\n",
    "                   ( 0.0000000000,  0.0000000000, 10.0000000000)],\n",
    "              pbc=(True, True, True)\n",
    ")\n",
    "\n",
    "input_data = {\n",
    "    'control': {\n",
    "        'calculation'        : 'scf',\n",
    "        'restart_mode'       : 'from_scratch',\n",
    "        'prefix'             : '',\n",
    "        'max_seconds'        : job_info['cputime'].total_seconds(),\n",
    "        'pseudo_dir'         : prj_info['pseudodir'],\n",
    "        'outdir'             : prj_info['outdir'],\n",
    "        'tprnfor'            : qe_bool(True),\n",
    "    },\n",
    "    'system': {\n",
    "        'ibrav'              : 0,\n",
    "        'nat'                : len(atoms),\n",
    "        'ntyp'               : len(set(atoms.get_chemical_symbols())),\n",
    "        'ecutwfc'            : 25.0, \n",
    "        'ecutrho'            : 200.0,\n",
    "        'occupations'        : 'fixed', \n",
    "        'nbnd'               : 20,\n",
    "        'assume_isolated'    : 'esm',\n",
    "        'esm_bc'             : 'pbc',\n",
    "    },\n",
    "    'electrons': {\n",
    "        'mixing_beta'        : 0.5,\n",
    "    }\n",
    "}\n",
    "\n",
    "input_data_chng = {\n",
    "    prj_info['prefixes'][0]: {\n",
    "        'control': {\n",
    "            'prefix'     : prj_info['prefixes'][0],\n",
    "        }\n",
    "    },\n",
    "}\n",
    "structure_data = extract_structure_data(atoms)\n",
    "pseudopotentials = {'H':'H.pbe-van_ak.UPF', 'O':'O.pbe-van_ak.UPF'}\n",
    "atomic_species = {\n",
    "    elem: (atomic_masses[atomic_numbers[elem]], pseudopotentials[elem])\n",
    "    for elem in pseudopotentials\n",
    "}\n",
    "inpfile = 'test.in'\n",
    "for prefix in prj_info['prefixes']:\n",
    "    inpfile = f\"{prefix}.in\"  # 各 prefix ごとに inpfile を作成\n",
    "    for group in input_data_chng[prefix]:\n",
    "        for name, value in input_data_chng[prefix][group].items():\n",
    "            input_data[group][name] = value\n",
    "    write_qe_input(input_data, atomic_species, structure_data, filename=inpfile)"
   ]
  },
  {
   "cell_type": "markdown",
   "metadata": {},
   "source": [
    "### View unit cell \n",
    "\n",
    "Following script desplay the atomic structure in your unit cell.  \n",
    "Please, check the unit cell after running the scripyt."
   ]
  },
  {
   "cell_type": "code",
   "execution_count": null,
   "metadata": {},
   "outputs": [],
   "source": [
    "view(atoms, viewer='ngl')"
   ]
  },
  {
   "cell_type": "markdown",
   "metadata": {},
   "source": [
    "### Print out the results of SCF calculation written in `H2O.out`\n",
    "\n",
    "Here, we print out Total energy, forces and total number of charge described in `H2O.out`. "
   ]
  },
  {
   "cell_type": "code",
   "execution_count": null,
   "metadata": {
    "scrolled": true
   },
   "outputs": [],
   "source": [
    "# `prj_info` から prefix リストと出力ディレクトリを取得\n",
    "prefixes = prj_info['prefixes']\n",
    "outdir = prj_info['outdir']\n",
    "\n",
    "# Quantum ESPRESSO の XML 解析\n",
    "scf_result = parse_qe_xml(prefixes, outdir)\n",
    "\n",
    "# Print all results from XML\n",
    "for prefix in prj_info['prefixes']:\n",
    "    print('============================================')\n",
    "    print(f\"Prefix: {prefix}\")\n",
    "    print('============================================')\n",
    "    # 全エネルギー (eV)\n",
    "    energy = scf_result[prefix]['energy']\n",
    "    print(f\"Total Energy (eV): {energy:.6f}\")\n",
    "    # フェルミエネルギー (eV)\n",
    "    fermi_energy = scf_result[prefix]['fermi_energy']\n",
    "    if fermi_energy is not None:\n",
    "        print(f\"Fermi Energy (eV): {fermi_energy:.6f}\")\n",
    "    else:\n",
    "        print(\"Fermi Energy: Not found\")\n",
    "    # 余剰電荷\n",
    "    tot_charge = scf_result[prefix]['tot_charge']\n",
    "    if tot_charge is not None:\n",
    "        print(f\"Total Charge: {tot_charge:.6f}\")\n",
    "    else:\n",
    "        print(\"Total Charge: Not found\")\n",
    "    # 原子の力を取得して表示\n",
    "    forces = scf_result[prefix]['forces']\n",
    "    if forces:  # フォースデータが空でない場合のみ出力\n",
    "        print('Forces acting on atoms (eV/Å)')\n",
    "        for atom_id, fx, fy, fz in forces:\n",
    "            print(f\"  Atom {atom_id}: ({fx:.6f}, {fy:.6f}, {fz:.6f})\")\n",
    "    else:\n",
    "        print(\"Forces: Not found\")\n",
    "    print('---------------------------------------------')"
   ]
  },
  {
   "cell_type": "code",
   "execution_count": null,
   "metadata": {},
   "outputs": [],
   "source": [
    "plot_esm1(prj_info['outdir']+'/'+prj_info['prefixes'][0]+'.esm1',titlename='H2O bc1')"
   ]
  },
  {
   "cell_type": "markdown",
   "metadata": {},
   "source": [
    "## Water molecule ('bc1' boundary condition)\n",
    "\n",
    "Here, we learn how to use the ESM calculation with the \"Vacuum/Cell/Vacuum\" boundary condistion.  \n",
    "We find the new two inputs from following python scripts:\n",
    "\n",
    "* `assume_isolated`  \n",
    "* `esm_bc`  \n",
    "\n",
    "First of all, check the meanings of these input values at the Web site of input file discription for PWscf code.  \n",
    "The boundary condition of Vacuum/Cell/Vacuum indicates that the z-direction of the unit-cell is sandwiched by infinite vacuums.  \n",
    "Thus, we treat unitcell is the mix boundary condition:  \n",
    "* xy-plane is treaeted under the PBC.  \n",
    "* z-direcion is treated as the open-boundary.  \n",
    "\n",
    "The theoretical back-ground of ESM technique can be found in elsewhere (M. Otani and O. Sugino, PRB 73, 115407 (2006).).  \n",
    "Then, run the following python scripts."
   ]
  },
  {
   "cell_type": "code",
   "execution_count": null,
   "metadata": {
    "pycharm": {
     "is_executing": false
    }
   },
   "outputs": [],
   "source": [
    "project = 'H2O_bc1'\n",
    "prj_info = {\n",
    "    'project': project,\n",
    "    'projdir': '/Users/otani/Program/q-e',\n",
    "    'prefixes': ['H2O_bc1'],\n",
    "}\n",
    "prj_info['bindir'] = f\"{prj_info['projdir']}/bin\"\n",
    "prj_info['pseudodir'] = f\"{prj_info['projdir']}/pseudo\"\n",
    "prj_info['outdir'] = \"./out\""
   ]
  },
  {
   "cell_type": "code",
   "execution_count": null,
   "metadata": {},
   "outputs": [],
   "source": [
    "atoms = Atoms('OH2', [(5.00000000, 5.0000000000, 0.00000000),\n",
    "                      (5.75754080, 5.0000000000, 0.58707964),\n",
    "                      (4.24245910, 5.0000000000, 0.58707964)], \n",
    "             cell=[(10.0000000000,  0.0000000000,  0.0000000000),\n",
    "                   ( 0.0000000000, 10.0000000000,  0.0000000000),\n",
    "                   ( 0.0000000000,  0.0000000000, 10.0000000000)],\n",
    ")\n",
    "\n",
    "input_data = {\n",
    "    'control': {\n",
    "        'calculation'        : 'scf',\n",
    "        'restart_mode'       : 'from_scratch',\n",
    "        'prefix'             : '',\n",
    "        'max_seconds'        : job_info['cputime'].total_seconds(),\n",
    "        'pseudo_dir'         : prj_info['pseudodir'],\n",
    "        'outdir'             : prj_info['outdir'],\n",
    "        'tprnfor'            : qe_bool(True),\n",
    "    },\n",
    "    'system': {\n",
    "        'ibrav'              : 0,\n",
    "        'nat'                : len(atoms),\n",
    "        'ntyp'               : len(set(atoms.get_chemical_symbols())),\n",
    "        'ecutwfc'            : 25.0, \n",
    "        'ecutrho'            : 200.0,\n",
    "        'occupations'        : 'fixed', \n",
    "        'nbnd'               : 20,\n",
    "        'assume_isolated'    : 'esm',\n",
    "        'esm_bc'             : 'bc1',\n",
    "    },\n",
    "    'electrons': {\n",
    "        'mixing_beta'        : 0.5,\n",
    "    }\n",
    "}\n",
    "\n",
    "input_data_chng = {\n",
    "    prj_info['prefixes'][0]: {\n",
    "        'control': {\n",
    "            'prefix'     : prj_info['prefixes'][0],\n",
    "        }\n",
    "    }\n",
    "}\n",
    "structure_data = extract_structure_data(atoms)\n",
    "pseudopotentials = {'H':'H.pbe-van_ak.UPF', 'O':'O.pbe-van_ak.UPF'}\n",
    "atomic_species = {\n",
    "    elem: (atomic_masses[atomic_numbers[elem]], pseudopotentials[elem])\n",
    "    for elem in pseudopotentials\n",
    "}\n",
    "for prefix in prj_info['prefixes']:\n",
    "    inpfile = f\"{prefix}.in\"  # 各 prefix ごとに inpfile を作成\n",
    "    for group in input_data_chng[prefix]:\n",
    "        for name, value in input_data_chng[prefix][group].items():\n",
    "            input_data[group][name] = value\n",
    "            #write_qe_input(input_data, atomic_species, structure_data, filename=inpfile, kpts=(1, 1, 1), koffset=(0,0,0))\n",
    "    write_qe_input(input_data, atomic_species, structure_data, filename=inpfile)"
   ]
  },
  {
   "cell_type": "code",
   "execution_count": null,
   "metadata": {},
   "outputs": [],
   "source": [
    "# `prj_info` から prefix リストと出力ディレクトリを取得\n",
    "prefixes = prj_info['prefixes']\n",
    "outdir = prj_info['outdir']\n",
    "\n",
    "# Quantum ESPRESSO の XML 解析\n",
    "scf_result = parse_qe_xml(prefixes, outdir)\n",
    "\n",
    "# Print all results from XML\n",
    "for prefix in prj_info['prefixes']:\n",
    "    print('============================================')\n",
    "    print(f\"Prefix: {prefix}\")\n",
    "    print('============================================')\n",
    "    # 全エネルギー (eV)\n",
    "    energy = scf_result[prefix]['energy']\n",
    "    print(f\"Total Energy (eV): {energy:.6f}\")\n",
    "    # フェルミエネルギー (eV)\n",
    "    fermi_energy = scf_result[prefix]['fermi_energy']\n",
    "    if fermi_energy is not None:\n",
    "        print(f\"Fermi Energy (eV): {fermi_energy:.6f}\")\n",
    "    else:\n",
    "        print(\"Fermi Energy: Not found\")\n",
    "    # 余剰電荷\n",
    "    tot_charge = scf_result[prefix]['tot_charge']\n",
    "    if tot_charge is not None:\n",
    "        print(f\"Total Charge: {tot_charge:.6f}\")\n",
    "    else:\n",
    "        print(\"Total Charge: Not found\")\n",
    "    # 原子の力を取得して表示\n",
    "    forces = scf_result[prefix]['forces']\n",
    "    if forces:  # フォースデータが空でない場合のみ出力\n",
    "        print('Forces acting on atoms (eV/Å)')\n",
    "        for atom_id, fx, fy, fz in forces:\n",
    "            print(f\"  Atom {atom_id}: ({fx:.6f}, {fy:.6f}, {fz:.6f})\")\n",
    "    else:\n",
    "        print(\"Forces: Not found\")\n",
    "    print('---------------------------------------------')"
   ]
  },
  {
   "cell_type": "code",
   "execution_count": null,
   "metadata": {},
   "outputs": [],
   "source": [
    "plot_esm1(prj_info['outdir']+'/'+prj_info['prefixes'][0]+'.esm1',titlename='H2O bc1')"
   ]
  },
  {
   "cell_type": "markdown",
   "metadata": {},
   "source": [
    "Here, we obtain the results of rho, V_hartree, V_ion and V_electrostatic with ESM correction.  \n",
    "Thanks to \"Vacuum/Slab/Vacuum\" condition, interaction between image cells is cancelled out and flat vacuum level can be found in V_electrostatic.  \n",
    "In addition, energy level zero under the OBC is defined as midpoint between $V(z=-\\infty)$ and $V(z=+\\infty)$, where $V(z)$ is the electrostatic potential. \n"
   ]
  },
  {
   "cell_type": "code",
   "execution_count": null,
   "metadata": {},
   "outputs": [],
   "source": [
    "#v = nv.show_ase(atoms)\n",
    "#v.add_ball_and_stick()\n",
    "#v.add_unitcell()\n",
    "#v\n",
    "temp = atoms\n",
    "print(atoms.get_cell())\n",
    "temp.translate((0,0,-(np.sum(temp.positions[:,2]))/temp.positions.shape[0]))\n",
    "view(atoms, viewer='ngl')"
   ]
  },
  {
   "cell_type": "markdown",
   "metadata": {
    "toc-hr-collapsed": true
   },
   "source": [
    "# Example 2: Al(111) surface\n",
    "\n",
    "Here, we learn how to use the ESM calculation for the surface.  \n",
    "As for example, we use Al(111) surface using repeated slab model having four atomic layers.  \n",
    "\n",
    "Hereafter, we will use following three types of ESM boundary conditions:  \n",
    "\n",
    "* `bc1`: Vacuum/Slab/Vacuum (VSV)\n",
    "* `bc2`: Metal/Slab/Metal (MSM)  \n",
    "* `bc3`: Vacuum/Slab/Metal (VSM)\n",
    "\n"
   ]
  },
  {
   "cell_type": "markdown",
   "metadata": {},
   "source": [
    "## Al(111) surface ('bc1' boundary condition)\n",
    "\n",
    "First, we use the VSV model. The VSV model is already used in the previous exampe.  This model is useful for ordinal slab calculation with thin vacuum layer, because, in this model, z-direction of surface slab, which corresponds to the surface normal-direction, is treated as open boundary condition (OBC). \n",
    "\n",
    "Run following scripts, and calculate electronic structure of Al(111) surface with VSV model. "
   ]
  },
  {
   "cell_type": "code",
   "execution_count": null,
   "metadata": {
    "pycharm": {
     "is_executing": false
    }
   },
   "outputs": [],
   "source": [
    "project = 'Al-slab'\n",
    "prj_info = {\n",
    "    'project': project,\n",
    "    'projdir': '/Users/otani/Program/q-e',\n",
    "    'prefixes': ['Al0'],\n",
    "}\n",
    "prj_info['bindir'] = f\"{prj_info['projdir']}/bin\"\n",
    "prj_info['pseudodir'] = f\"{prj_info['projdir']}/pseudo\"\n",
    "prj_info['outdir'] = \"./out\""
   ]
  },
  {
   "cell_type": "markdown",
   "metadata": {},
   "source": [
    "### k-point parallization\n",
    "\n",
    "Since the k-point sampling is required for the slab calculation, we use k-point parallization mode hereafter.  \n",
    "Following a set of `job_info` is a sample for using k-parallel running of PWscf.  "
   ]
  },
  {
   "cell_type": "code",
   "execution_count": null,
   "metadata": {
    "pycharm": {
     "is_executing": false
    }
   },
   "outputs": [],
   "source": [
    "job_info = {\n",
    "    'node':     4,   \n",
    "    'mpinum':   28,  \n",
    "    'ompnum':   1,\n",
    "    'cputime':  dt.timedelta(days=0, hours=0, minutes=30),\n",
    "    'para_img': 1,\n",
    "    'para_kpt': 4,\n",
    "    'para_tsk': 1,\n",
    "    'para_bnd': 1,\n",
    "}"
   ]
  },
  {
   "cell_type": "code",
   "execution_count": null,
   "metadata": {},
   "outputs": [],
   "source": [
    "atoms = Atoms('Al4', [(2.85595455,  0.00000000,  3.49781569),\n",
    "                      (1.42797727,  0.82444307,  1.16593856),\n",
    "                      (2.85595454,  1.64888613, -1.16593856),\n",
    "                      (0.00000000,  0.00000000, -3.49781569)], \n",
    "             cell=[( 2.85595455,  0.0000000000,  0.0000000000),\n",
    "                   ( 1.42797727,  2.4733291965,  0.0000000000),\n",
    "                   ( 0.00000000,  0.0000000000, 22.9956313827)],\n",
    "              pbc=(True, True, False)\n",
    ")\n",
    "\n",
    "input_data = {\n",
    "    'control': {\n",
    "        'calculation'        : 'scf',\n",
    "        'restart_mode'       : 'from_scratch',\n",
    "        'prefix'             : '',\n",
    "        'max_seconds'        : job_info['cputime'].total_seconds(),\n",
    "        'pseudo_dir'         : prj_info['pseudodir'],\n",
    "        'outdir'             : prj_info['outdir'],\n",
    "        'tprnfor'            : qe_bool(True),\n",
    "    },\n",
    "    'system': {\n",
    "        'ibrav'              : 0,\n",
    "        'nat'                : len(atoms),\n",
    "        'ntyp'               : len(set(atoms.get_chemical_symbols())),\n",
    "        'ecutwfc'            : 20.0, \n",
    "        'ecutrho'            : 200.0,\n",
    "        'occupations'        : 'smearing',\n",
    "        'smearing'           : 'mp',\n",
    "        'degauss'            : 0.03,\n",
    "        'nosym'              : True,\n",
    "        'assume_isolated'    : 'esm',\n",
    "        'esm_bc'             : 'bc1',\n",
    "    },\n",
    "    'electrons': {\n",
    "        'mixing_beta'        : 0.3,\n",
    "    }\n",
    "}\n",
    "input_data_chng = {\n",
    "    prj_info['prefixes'][0]: {\n",
    "        'control': {\n",
    "            'prefix'     : prj_info['prefixes'][0],\n",
    "        }\n",
    "    }\n",
    "}\n",
    "structure_data = extract_structure_data(atoms)\n",
    "pseudopotentials = {'Al':'Al.pbe-n-van.UPF'}\n",
    "atomic_species = {\n",
    "    elem: (atomic_masses[atomic_numbers[elem]], pseudopotentials[elem])\n",
    "    for elem in pseudopotentials\n",
    "}\n",
    "\n",
    "for prefix in prj_info['prefixes']:\n",
    "    inpfile = f\"{prefix}.in\"  # 各 prefix ごとに inpfile を作成\n",
    "    for group in input_data_chng[prefix]:\n",
    "        for name, value in input_data_chng[prefix][group].items():\n",
    "            input_data[group][name] = value\n",
    "            write_qe_input(input_data, atomic_species, structure_data, filename=inpfile, kpts=(8, 8, 1), koffset=(1,1,0))"
   ]
  },
  {
   "cell_type": "code",
   "execution_count": null,
   "metadata": {},
   "outputs": [],
   "source": [
    "#v = nv.show_ase(atoms)\n",
    "#v.add_ball_and_stick()\n",
    "#v.add_unitcell()\n",
    "#v\n",
    "view(atoms, viewer='ngl')"
   ]
  },
  {
   "cell_type": "code",
   "execution_count": null,
   "metadata": {},
   "outputs": [],
   "source": [
    "# `prj_info` から prefix リストと出力ディレクトリを取得\n",
    "prefixes = prj_info['prefixes']\n",
    "outdir = prj_info['outdir']\n",
    "\n",
    "# Quantum ESPRESSO の XML 解析\n",
    "scf_result = parse_qe_xml(prefixes, outdir)\n",
    "\n",
    "# Print all results from XML\n",
    "for prefix in prj_info['prefixes']:\n",
    "    print('============================================')\n",
    "    print(f\"Prefix: {prefix}\")\n",
    "    print('============================================')\n",
    "    # 全エネルギー (eV)\n",
    "    energy = scf_result[prefix]['energy']\n",
    "    print(f\"Total Energy (eV): {energy:.6f}\")\n",
    "    # フェルミエネルギー (eV)\n",
    "    fermi_energy = scf_result[prefix]['fermi_energy']\n",
    "    if fermi_energy is not None:\n",
    "        print(f\"Fermi Energy (eV): {fermi_energy:.6f}\")\n",
    "    # ESM境界条件\n",
    "    esm_bc = scf_result[prefix]['esm_bc']\n",
    "    if esm_bc is not None:\n",
    "        print(f\"ESM boundary condition: {esm_bc}\")\n",
    "    # 余剰電荷\n",
    "    tot_charge = scf_result[prefix]['tot_charge']\n",
    "    if tot_charge is not None:\n",
    "        print(f\"Total Charge: {tot_charge:.6f}\")\n",
    "    # 原子の力を取得して表示\n",
    "    forces = scf_result[prefix]['forces']\n",
    "    if forces:  # フォースデータが空でない場合のみ出力\n",
    "        print('Forces acting on atoms (eV/Å)')\n",
    "        for atom_id, fx, fy, fz in forces:\n",
    "            print(f\"  Atom {atom_id}: ({fx:.6f}, {fy:.6f}, {fz:.6f})\")\n",
    "    print('---------------------------------------------')"
   ]
  },
  {
   "cell_type": "markdown",
   "metadata": {},
   "source": [
    "### Plot `prefix.esm1` file\n",
    "\n",
    "Now we plot laterally averaged electron density, Hartree, ionic and electrostatic potentials described in  the `prefix.esm1` file that is located under your output directry. "
   ]
  },
  {
   "cell_type": "code",
   "execution_count": null,
   "metadata": {},
   "outputs": [],
   "source": [
    "plot_esm1(prj_info['outdir']+'/'+prj_info['prefixes'][0]+'.esm1',titlename='Al(111) bc1')"
   ]
  },
  {
   "cell_type": "markdown",
   "metadata": {},
   "source": [
    "### Work function\n",
    "\n",
    "Forfurther analysys, we calculate the work function at the Al(111). \n",
    "Thanks to Janack's theorem, the work function $\\Phi$ can be defined as difference between the vacuum ($E_{\\rm vac}$) and Fermi levels ($E_{\\rm F}$).  \n",
    "\n",
    "$$\n",
    "\\Phi = E_{\\rm vac} - E_{\\rm F}\n",
    "$$\n",
    "\n",
    "By using following script, you can extract the $E_{\\rm F}$ from the output file of PWscf.  \n",
    "Try to calculate workfunction using above formula.  "
   ]
  },
  {
   "cell_type": "markdown",
   "metadata": {
    "toc-hr-collapsed": true
   },
   "source": [
    "## Al(111) surface ('bc2' boundary condition with external electric field)\n",
    "\n",
    "Here, we calculate the electronic state at the Al surface under the MSM condition.  \n",
    "In the MSM, we can apply the external field. Thus, both side of ESM is connected by a lead,   \n",
    "and the slab is sandwiched by metals.  \n",
    "\n",
    "Run following python scripts and submit your job to remotehost.  "
   ]
  },
  {
   "cell_type": "code",
   "execution_count": null,
   "metadata": {
    "pycharm": {
     "is_executing": false
    }
   },
   "outputs": [],
   "source": [
    "project = 'Al-slab'\n",
    "prj_info = {\n",
    "    'project': project,\n",
    "    'projdir': '/Users/otani/Program/q-e',\n",
    "    'prefixes': ['Al_E'],\n",
    "}\n",
    "prj_info['bindir'] = f\"{prj_info['projdir']}/bin\"\n",
    "prj_info['pseudodir'] = f\"{prj_info['projdir']}/pseudo\"\n",
    "prj_info['outdir'] = \"./out\""
   ]
  },
  {
   "cell_type": "code",
   "execution_count": null,
   "metadata": {
    "pycharm": {
     "is_executing": false
    }
   },
   "outputs": [],
   "source": [
    "job_info = {\n",
    "    'node':     4,   \n",
    "    'mpinum':   28,  \n",
    "    'ompnum':   1,\n",
    "    'cputime':  dt.timedelta(days=0, hours=0, minutes=30),\n",
    "    'para_img': 1,\n",
    "    'para_kpt': 4,\n",
    "    'para_tsk': 1,\n",
    "    'para_bnd': 1,\n",
    "}"
   ]
  },
  {
   "cell_type": "markdown",
   "metadata": {},
   "source": [
    "### `esm_efield`  \n",
    "\n",
    "We can find a new input `esm_efield`, which controls a magnitude of applied external field.  \n",
    "the `esm_efield` is in the unit of [Ry/Bohr] and can be used only in `bc2` condition.  "
   ]
  },
  {
   "cell_type": "code",
   "execution_count": null,
   "metadata": {},
   "outputs": [],
   "source": [
    "atoms = Atoms('Al4', [(2.85595455,  0.00000000,  3.49781569),\n",
    "                      (1.42797727,  0.82444307,  1.16593856),\n",
    "                      (2.85595454,  1.64888613, -1.16593856),\n",
    "                      (0.00000000,  0.00000000, -3.49781569)], \n",
    "             cell=[( 2.85595455,  0.0000000000,  0.0000000000),\n",
    "                   ( 1.42797727,  2.4733291965,  0.0000000000),\n",
    "                   ( 0.00000000,  0.0000000000, 22.9956313827)],\n",
    "              pbc=(True, True, False)\n",
    ")\n",
    "\n",
    "input_data = {\n",
    "    'control': {\n",
    "        'calculation'        : 'scf',\n",
    "        'restart_mode'       : 'from_scratch',\n",
    "        'prefix'             : '',\n",
    "        'max_seconds'        : job_info['cputime'].total_seconds(),\n",
    "        'pseudo_dir'         : prj_info['pseudodir'],\n",
    "        'outdir'             : prj_info['outdir'],\n",
    "        'tprnfor'            : qe_bool(True),\n",
    "    },\n",
    "    'system': {\n",
    "        'ibrav'              : 0,\n",
    "        'nat'                : len(atoms),\n",
    "        'ntyp'               : len(set(atoms.get_chemical_symbols())),\n",
    "        'ecutwfc'            : 20.0, \n",
    "        'ecutrho'            : 200.0,\n",
    "        'occupations'        : 'smearing',\n",
    "        'smearing'           : 'mp',\n",
    "        'degauss'            : 0.03,\n",
    "        'nosym'              : True,\n",
    "        'assume_isolated'    : 'esm',\n",
    "        'esm_bc'             : 'bc2',\n",
    "        'esm_efield'         : 0.01,\n",
    "    },\n",
    "    'electrons': {\n",
    "        'mixing_beta'        : 0.5,\n",
    "    }\n",
    "}\n",
    "input_data_chng = {\n",
    "    prj_info['prefixes'][0]: {\n",
    "        'control': {\n",
    "            'prefix'     : prj_info['prefixes'][0],\n",
    "        }\n",
    "    }\n",
    "}\n",
    "structure_data = extract_structure_data(atoms)\n",
    "pseudopotentials = {'Al':'Al.pbe-n-van.UPF'}\n",
    "atomic_species = {\n",
    "    elem: (atomic_masses[atomic_numbers[elem]], pseudopotentials[elem])\n",
    "    for elem in pseudopotentials\n",
    "}\n",
    "\n",
    "for prefix in prj_info['prefixes']:\n",
    "    inpfile = f\"{prefix}.in\"  # 各 prefix ごとに inpfile を作成\n",
    "    for group in input_data_chng[prefix]:\n",
    "        for name, value in input_data_chng[prefix][group].items():\n",
    "            input_data[group][name] = value\n",
    "    write_qe_input(input_data, atomic_species, structure_data, filename=inpfile, kpts=(8, 8, 1), koffset=(1,1,0))"
   ]
  },
  {
   "cell_type": "markdown",
   "metadata": {},
   "source": [
    "### Plot results of ESM calculation with external field\n",
    "\n",
    "We plot the results of the ESM calculation with exrernal field.  \n",
    "A lower right panel shows the result of electrostatic potential under external field.  \n",
    "By the applied external field, the result of electrostatic potential has a slope.  "
   ]
  },
  {
   "cell_type": "code",
   "execution_count": null,
   "metadata": {},
   "outputs": [],
   "source": [
    "plot_esm1(prj_info['outdir']+'/'+prj_info['prefixes'][0]+'.esm1',titlename='Al(111) bc2 with E-field')"
   ]
  },
  {
   "cell_type": "markdown",
   "metadata": {},
   "source": [
    "## Al(111) surface ( `bc2` boundary condition with various additional charge)\n",
    "\n",
    "Here, we will calculate electronic structure at Al(111) charged-surface under `bc2` condition.  In ordinary PBC calculation, the electronic structure at a charged-surface is difficult, because electrostatic terms have diverged terms. Usually, charged cell calculation under the PBC is carried out using assumption of uniform jellium-background. However, this treatment cannot determine electrostatic energy, precisely.  \n",
    "\n",
    "The treatment of charged cell using ESM method allow us to determine electrostatic energy due to image charge induced at ESM surfaces (for further details can be found in Ref. [1]).   \n",
    "\n",
    "As following, we introduce additional charge using `tot_charge` value.  "
   ]
  },
  {
   "cell_type": "code",
   "execution_count": null,
   "metadata": {
    "pycharm": {
     "is_executing": false
    }
   },
   "outputs": [],
   "source": [
    "project = 'Al-slab'\n",
    "prj_info = {\n",
    "    'project': project,\n",
    "    'projdir': '/Users/otani/Program/q-e',\n",
    "    'prefixes':  ['Alm2', 'Alm1', 'Al0', 'Alp1', 'Alp2'],\n",
    "}\n",
    "prj_info['bindir'] = f\"{prj_info['projdir']}/bin\"\n",
    "prj_info['pseudodir'] = f\"{prj_info['projdir']}/pseudo\"\n",
    "prj_info['outdir'] = \"./out\""
   ]
  },
  {
   "cell_type": "code",
   "execution_count": null,
   "metadata": {
    "pycharm": {
     "is_executing": false
    }
   },
   "outputs": [],
   "source": [
    "job_info = {\n",
    "    'node':     4,   \n",
    "    'mpinum':   28,  \n",
    "    'ompnum':   1,\n",
    "    'cputime':  dt.timedelta(days=0, hours=0, minutes=30),\n",
    "    'para_img': 1,\n",
    "    'para_kpt': 4,\n",
    "    'para_tsk': 1,\n",
    "    'para_bnd': 1,\n",
    "}"
   ]
  },
  {
   "cell_type": "code",
   "execution_count": null,
   "metadata": {
    "pycharm": {
     "is_executing": false
    }
   },
   "outputs": [],
   "source": [
    "atoms = Atoms('Al4', [(2.85595455,  0.00000000,  3.49781569),\n",
    "                      (1.42797727,  0.82444307,  1.16593856),\n",
    "                      (2.85595454,  1.64888613, -1.16593856),\n",
    "                      (0.00000000,  0.00000000, -3.49781569)], \n",
    "             cell=[( 2.85595455,  0.0000000000,  0.0000000000),\n",
    "                   ( 1.42797727,  2.4733291965,  0.0000000000),\n",
    "                   ( 0.00000000,  0.0000000000, 22.9956313827)],\n",
    "              pbc=(True, True, False)\n",
    ")\n",
    "\n",
    "input_data = {\n",
    "    'control': {\n",
    "        'calculation'        : 'scf',\n",
    "        'restart_mode'       : 'from_scratch',\n",
    "        'prefix'             : '',\n",
    "        'max_seconds'        : job_info['cputime'].total_seconds(),\n",
    "        'pseudo_dir'         : prj_info['pseudodir'],\n",
    "        'outdir'             : prj_info['outdir'],\n",
    "        'tprnfor'            : qe_bool(True),\n",
    "    },\n",
    "    'system': {\n",
    "        'ibrav'              : 0,\n",
    "        'nat'                : len(atoms),\n",
    "        'ntyp'               : len(set(atoms.get_chemical_symbols())),\n",
    "        'ecutwfc'            : 20.0, \n",
    "        'ecutrho'            : 200.0,\n",
    "        'occupations'        : 'smearing',\n",
    "        'smearing'           : 'mp',\n",
    "        'degauss'            : 0.03,\n",
    "        'nosym'              : True,\n",
    "        'assume_isolated'    : 'esm',\n",
    "        'esm_bc'             : 'bc2',\n",
    "    },\n",
    "    'electrons': {\n",
    "        'diagonalization'    : 'rmm',\n",
    "        'diago_rmm_conv'     : False,\n",
    "        'mixing_beta'        : 0.3,\n",
    "    }\n",
    "}\n",
    "\n",
    "input_data_chng = {\n",
    "    prj_info['prefixes'][0]: {\n",
    "        'control': {\n",
    "            'prefix'     : prj_info['prefixes'][0],\n",
    "        },\n",
    "        'system' : {\n",
    "            'tot_charge' : -0.01,\n",
    "        },\n",
    "    },\n",
    "    prj_info['prefixes'][1]: {\n",
    "        'control': {\n",
    "            'prefix'     : prj_info['prefixes'][1],\n",
    "        },\n",
    "        'system' : {\n",
    "            'tot_charge' : -0.005,\n",
    "        },\n",
    "    },\n",
    "    prj_info['prefixes'][2]: {\n",
    "        'control': {\n",
    "            'prefix'     : prj_info['prefixes'][2],\n",
    "        },\n",
    "        'system' : {\n",
    "            'tot_charge' : 0.0,\n",
    "        }\n",
    "    },\n",
    "    prj_info['prefixes'][3]: {\n",
    "        'control': {\n",
    "            'prefix'     : prj_info['prefixes'][3],\n",
    "        },\n",
    "        'system' : {\n",
    "            'tot_charge' : +0.005,\n",
    "        },\n",
    "    },\n",
    "    prj_info['prefixes'][4]: {\n",
    "        'control': {\n",
    "            'prefix'     : prj_info['prefixes'][4],\n",
    "        },\n",
    "        'system' : {\n",
    "            'tot_charge' : +0.01,\n",
    "        }\n",
    "    },\n",
    "}\n",
    "structure_data = extract_structure_data(atoms)\n",
    "pseudopotentials = {'Al':'Al.pbe-n-van.UPF'}\n",
    "atomic_species = {\n",
    "    elem: (atomic_masses[atomic_numbers[elem]], pseudopotentials[elem])\n",
    "    for elem in pseudopotentials\n",
    "}\n",
    "\n",
    "for prefix in prj_info['prefixes']:\n",
    "    inpfile = f\"{prefix}.in\"  # 各 prefix ごとに inpfile を作成\n",
    "    for group in input_data_chng[prefix]:\n",
    "        for name, value in input_data_chng[prefix][group].items():\n",
    "            input_data[group][name] = value\n",
    "    write_qe_input(input_data, atomic_species, structure_data, filename=inpfile, kpts=(8, 8, 1), koffset=(1,1,0))"
   ]
  },
  {
   "cell_type": "code",
   "execution_count": null,
   "metadata": {},
   "outputs": [],
   "source": [
    "# `prj_info` から prefix リストと出力ディレクトリを取得\n",
    "prefixes = prj_info['prefixes']\n",
    "outdir = prj_info['outdir']\n",
    "\n",
    "# Quantum ESPRESSO の XML 解析\n",
    "scf_result = parse_qe_xml(prefixes, outdir)\n",
    "\n",
    "# Print all results from XML\n",
    "for prefix in prj_info['prefixes']:\n",
    "    print('============================================')\n",
    "    print(f\"Prefix: {prefix}\")\n",
    "    print('============================================')\n",
    "    # 全エネルギー (eV)\n",
    "    energy = scf_result[prefix]['energy']\n",
    "    print(f\"Total Energy (eV): {energy:.6f}\")\n",
    "    # フェルミエネルギー (eV)\n",
    "    fermi_energy = scf_result[prefix]['fermi_energy']\n",
    "    if fermi_energy is not None:\n",
    "        print(f\"Fermi Energy (eV): {fermi_energy:.6f}\")\n",
    "    # ESM境界条件\n",
    "    esm_bc = scf_result[prefix]['esm_bc']\n",
    "    if esm_bc is not None:\n",
    "        print(f\"ESM boundary condition: {esm_bc}\")\n",
    "    # 余剰電荷\n",
    "    tot_charge = scf_result[prefix]['tot_charge']\n",
    "    if tot_charge is not None:\n",
    "        print(f\"Total Charge: {tot_charge:.6f}\")\n",
    "    # 原子の力を取得して表示\n",
    "    forces = scf_result[prefix]['forces']\n",
    "    if forces:  # フォースデータが空でない場合のみ出力\n",
    "        print('Forces acting on atoms (eV/Å)')\n",
    "        for atom_id, fx, fy, fz in forces:\n",
    "            print(f\"  Atom {atom_id}: ({fx:.6f}, {fy:.6f}, {fz:.6f})\")\n",
    "    print('---------------------------------------------')"
   ]
  },
  {
   "cell_type": "code",
   "execution_count": null,
   "metadata": {},
   "outputs": [],
   "source": [
    "view(atoms, viewer='ngl')"
   ]
  },
  {
   "cell_type": "markdown",
   "metadata": {},
   "source": [
    "### Plot the results of density and potentials at the various charged surface\n",
    "\n",
    "Here, we plot the results of laterally averaged electronic density and potentials.  \n",
    "For total charge zero, the results of them are the almost same as those with `bc1` calculation. "
   ]
  },
  {
   "cell_type": "code",
   "execution_count": null,
   "metadata": {},
   "outputs": [],
   "source": [
    "plot_esm1(prj_info['outdir']+'/'+prj_info['prefixes'][2]+'.esm1',titlename=r'Al with $\\pm$0')"
   ]
  },
  {
   "cell_type": "code",
   "execution_count": null,
   "metadata": {},
   "outputs": [],
   "source": [
    "plot_esm1(prj_info['outdir']+'/'+prj_info['prefixes'][0]+'.esm1',titlename='Al with -0.01$|e|$')"
   ]
  },
  {
   "cell_type": "code",
   "execution_count": null,
   "metadata": {},
   "outputs": [],
   "source": [
    "plot_esm1(prj_info['outdir']+'/'+prj_info['prefixes'][4]+'.esm1',titlename='Al with 0.01$|e|$')"
   ]
  },
  {
   "cell_type": "markdown",
   "metadata": {},
   "source": [
    "### Differential potential\n",
    "\n",
    "Here, we plot the electrostatic potential difference between non-charged and charged surfaces.  \n",
    "\n",
    "The induced electric field by additional charge can be clearly seen as followings.  \n",
    "Furthermore, we found that the potential in the charged slab is almost uniform.  \n",
    "This result is caused by electron screening effect to the external field.    \n",
    "\n",
    "In this calculation, unfortunately, induced potential in slab region slightly oscilates.  \n",
    "This oscilation is caused by insufficient FFT grids. \n",
    "If you increase cut-off energy and carry out convergence study, \n",
    "this oscilation can be removed. "
   ]
  },
  {
   "cell_type": "code",
   "execution_count": null,
   "metadata": {},
   "outputs": [],
   "source": [
    "m2 = np.loadtxt(prj_info['outdir']+'/'+prj_info['prefixes'][0]+'.esm1',comments='#')\n",
    "m1 = np.loadtxt(prj_info['outdir']+'/'+prj_info['prefixes'][1]+'.esm1',comments='#')\n",
    "n0 = np.loadtxt(prj_info['outdir']+'/'+prj_info['prefixes'][2]+'.esm1',comments='#')\n",
    "p1 = np.loadtxt(prj_info['outdir']+'/'+prj_info['prefixes'][3]+'.esm1',comments='#')\n",
    "p2 = np.loadtxt(prj_info['outdir']+'/'+prj_info['prefixes'][4]+'.esm1',comments='#')\n",
    "fig = plt.figure(\n",
    "    figsize   = (5,5), # inch\n",
    "#    dpi       = 100,    # dpi\n",
    "#    edgecolor = 'black',\n",
    "#   linewidth = '1'\n",
    ")\n",
    "fig.subplots_adjust(wspace=0.3, hspace=0.5,top=0.82)\n",
    "fig.suptitle('Differential potential')\n",
    "\n",
    "ax = fig.add_subplot(111)\n",
    "ax.set_xlabel('z (A)')\n",
    "ax.set_ylabel('Delta V (eV)')\n",
    "ax.axhline(0.0, linewidth=1, linestyle='dashed', color='black')\n",
    "ax.plot(n0[:,0], p2[:,4]-n0[:,4], color='black', linestyle='solid', label='+0.01e')\n",
    "ax.plot(n0[:,0], m2[:,4]-n0[:,4], color='red', linestyle='solid', label='-0.01e')\n",
    "ax.plot(n0[:,0], p1[:,4]-n0[:,4], color='blue', linestyle='solid', label='+0.005e')\n",
    "ax.plot(n0[:,0], m1[:,4]-n0[:,4], color='green', linestyle='solid',label='-0.005e')\n",
    "plt.show()"
   ]
  },
  {
   "cell_type": "markdown",
   "metadata": {},
   "source": [
    "## Al(111) surface ('bc3' boundary condition with additional charge [-0.01e])\n",
    "\n",
    "Here, we learn the vacuum/slab/metal boundary condition calculation.  \n",
    "Surface slab is sandwiched by the semi-infinite vacuum and metal ESM.  \n",
    "In this boundary condition, if we set the extra charge, image charge is induced at the metal ESM. \n",
    "Thus, electric field is induced only metal side.  \n",
    "\n",
    "In this calculation, we use `bc3` condition. "
   ]
  },
  {
   "cell_type": "code",
   "execution_count": null,
   "metadata": {},
   "outputs": [],
   "source": [
    "project = 'Al-slab'\n",
    "prj_info = {\n",
    "    'project': project,\n",
    "    'homedir': os.path.expanduser('~')+'/Program',\n",
    "    'prefixes':  ['Al111_bc3_m001'],\n",
    "}\n",
    "\n",
    "job_info = {\n",
    "    'node':     4,   \n",
    "    'mpinum':   28,  \n",
    "    'ompnum':   1,\n",
    "    'cputime':  dt.timedelta(days=0, hours=0, minutes=30),\n",
    "    'para_img': 1,\n",
    "    'para_kpt': 4,\n",
    "    'para_tsk': 1,\n",
    "    'para_bnd': 1,\n",
    "}\n",
    "\n",
    "rjob = RemoteJob(prj_info, job_info, remote='enemat')\n",
    "\n",
    "rjob.connecthost()"
   ]
  },
  {
   "cell_type": "code",
   "execution_count": null,
   "metadata": {},
   "outputs": [],
   "source": [
    "atoms = Atoms('Al4', [(2.85595455,  0.00000000,  3.49781569),\n",
    "                      (1.42797727,  0.82444307,  1.16593856),\n",
    "                      (2.85595454,  1.64888613, -1.16593856),\n",
    "                      (0.00000000,  0.00000000, -3.49781569)], \n",
    "             cell=[( 2.85595455,  0.0000000000,  0.0000000000),\n",
    "                   ( 1.42797727,  2.4733291965,  0.0000000000),\n",
    "                   ( 0.00000000,  0.0000000000, 22.9956313827)],\n",
    "              pbc=(True, True, False)\n",
    ")\n",
    "pseudo={'Al':'Al.pbe-n-van.UPF'}\n",
    "\n",
    "input_data = {\n",
    "    'control': {\n",
    "        'calculation'        : 'scf',\n",
    "        'restart_mode'       : 'from_scratch',\n",
    "        'prefix'             : prefix,\n",
    "        'pseudo_dir'         : rjob.pseudo,\n",
    "        'outdir'             : rjob.workdir+'/tmp',\n",
    "        'tprnfor'            : True,\n",
    "    },\n",
    "    'system': {\n",
    "        'ecutwfc'            : 20.0, \n",
    "        'ecutrho'            : 200.0,\n",
    "        'occupations'        : 'smearing',\n",
    "        'smearing'           : 'mp',\n",
    "        'degauss'            : 0.03,\n",
    "        'nosym'              : True,\n",
    "        'assume_isolated'    : 'esm',\n",
    "        'esm_bc'             : 'bc3',\n",
    "        'tot_charge'         : -0.01\n",
    "    },\n",
    "    'electrons': {\n",
    "        'mixing_beta'        : 0.5,\n",
    "    }\n",
    "}\n",
    "\n",
    "input_data_chng = {\n",
    "    rjob.prefixes[0]: {\n",
    "        'control': {\n",
    "            'prefix'     : rjob.prefixes[0],\n",
    "        },\n",
    "    },\n",
    "}\n",
    "\n",
    "for prefix in rjob.prefixes:\n",
    "    for group in input_data_chng[prefix]:\n",
    "        for name, value in input_data_chng[prefix][group].items():\n",
    "            input_data[group][name] = value\n",
    "            write(rjob.srcinp[prefix], atoms, format='espresso-in', input_data=input_data, \n",
    "                  pseudopotentials=pseudo, kpts=(8, 8, 1), koffset=(1, 1, 0))"
   ]
  },
  {
   "cell_type": "code",
   "execution_count": null,
   "metadata": {},
   "outputs": [],
   "source": [
    "view(atoms, viewer='ngl')"
   ]
  },
  {
   "cell_type": "code",
   "execution_count": null,
   "metadata": {},
   "outputs": [],
   "source": [
    "rjob.submit_files(prog='pw.x', inpf=rjob.destinp, outf=rjob.destout)\n",
    "\n",
    "putfiles = [\n",
    "    rjob.srcsub,\n",
    "]\n",
    "putfiles.extend([file for file in rjob.srcinp.values()])\n",
    "putfiles.extend([file for file in rjob.srcshell.values()])\n",
    "print('Send files...')\n",
    "rjob.put_file(putfiles)\n",
    "for i in range(len(putfiles)):\n",
    "    print(f\"{putfiles[i]} --> {rjob.workdir}\")"
   ]
  },
  {
   "cell_type": "code",
   "execution_count": null,
   "metadata": {},
   "outputs": [],
   "source": [
    "rjob.submit_job()"
   ]
  },
  {
   "cell_type": "code",
   "execution_count": null,
   "metadata": {},
   "outputs": [],
   "source": [
    "rjob.remote_qstat()"
   ]
  },
  {
   "cell_type": "code",
   "execution_count": null,
   "metadata": {},
   "outputs": [],
   "source": [
    "done = {}\n",
    "for prefix in rjob.prefixes:\n",
    "    done[prefix] = False\n",
    "print(f\"  Job ID    Done\")\n",
    "for prefix in rjob.prefixes:\n",
    "    print(f\"{rjob.jobid[prefix]:^10}{done[prefix]:^10}\")\n",
    "interval = 20\n",
    "while True:\n",
    "    print(f\"...refresh after {interval} seconds...\")\n",
    "    time.sleep(interval)\n",
    "    rjob.check_job(done)\n",
    "    if all(done.values()):\n",
    "        break\n",
    "    for prefix in rjob.prefixes:\n",
    "        print(f\"{rjob.jobid[prefix]:^10}{done[prefix]:^10}\")\n",
    "for prefix in rjob.prefixes:\n",
    "    print(f\"{rjob.jobid[prefix]:^10}{done[prefix]:^10}\")\n",
    "print(\"Job done!\")\n",
    "\n",
    "getfiles = []\n",
    "getfiles.extend([file for file in rjob.destout.values()])\n",
    "getfiles.extend([file for file in rjob.destesm1.values()])\n",
    "print('Get files...')\n",
    "rjob.get_file(getfiles)\n",
    "for i in range(len(getfiles)):\n",
    "    print(\"{0} --> {1}\".format(getfiles[i], rjob.prjhome))\n",
    "\n",
    "source_dir = rjob.workdir+'/tmp/'+rjob.prefixes[0]+'.save'\n",
    "rjob.set_base(source_dir, rjob.baseesm)\n",
    "\n",
    "print(\"Preparation for esm plot is done.\")"
   ]
  },
  {
   "cell_type": "markdown",
   "metadata": {},
   "source": [
    "### Plot electrostatic potentials\n",
    "\n",
    "Here, we also plot electrostatic potentials. Origin of electrostatic potential is chosen as the metal ESM surface. \n",
    "\n",
    "We clearly found that the electric field is induced for the only side of metal ESM.  "
   ]
  },
  {
   "cell_type": "code",
   "execution_count": null,
   "metadata": {},
   "outputs": [],
   "source": [
    "pt.plot_esm1(rjob.prjhome+'/'+rjob.prefixes[0]+'.esm1',titlename='Al111 bc3 tot_charge=-0.01')"
   ]
  },
  {
   "cell_type": "markdown",
   "metadata": {
    "toc-hr-collapsed": true
   },
   "source": [
    "## Al(111) surface ('bc3' boundary condition with constant-mu scheme [target_mu=+1.5 vs PZC])\n",
    "\n",
    "Here, we learn the how to use the constant-$\\mu_{\\rm e}$ calculation.   \n",
    "In this calculation target $\\mu_{\\rm e}$ is set to +1.5eV comparing to that of  potential zero charge.  \n",
    "Theoretical back-ground can be learn the published elsewhere [N. Bonnet et al., Phys. Rev. Lett. 109, 266101 (2012).].\n",
    "This computational technique is very important for investigating the electrochemical interface, because conventional DFT calculation can simulate *only constant-N* calculation. However, in the electrochemical interface, constant-$\\mu_{\\rm e}$ calculation is required due to the existance of the potentiostat.  \n",
    "\n",
    "We use `bc3` boundary condition. Thus, Al surface is connected with the metal ESM via the external potentiostat. "
   ]
  },
  {
   "cell_type": "code",
   "execution_count": null,
   "metadata": {},
   "outputs": [],
   "source": [
    "project = 'Al-slab'\n",
    "prj_info = {\n",
    "    'project': project,\n",
    "    'homedir': os.path.expanduser('~')+'/Program',\n",
    "    'prefixes':  ['Al111_bc3_vp015'],\n",
    "}\n",
    "\n",
    "job_info = {\n",
    "    'node':     4,   \n",
    "    'mpinum':   28,  \n",
    "    'ompnum':   1,\n",
    "    'cputime':  dt.timedelta(days=0, hours=0, minutes=30),\n",
    "    'para_img': 1,\n",
    "    'para_kpt': 4,\n",
    "    'para_tsk': 1,\n",
    "    'para_bnd': 1,\n",
    "}\n",
    "\n",
    "rjob = RemoteJob(prj_info, job_info, remote='enemat')\n",
    "\n",
    "rjob.connecthost()"
   ]
  },
  {
   "cell_type": "markdown",
   "metadata": {},
   "source": [
    "### Input file for constant-$\\mu_{\\rm e}$ calculation\n",
    "\n",
    "Here, we briefly describe input values used in constant-$\\mu_{\\rm e}$ calculation.  \n",
    "It is noted that the input values are slightly differ from original quantum espresso code.  \n",
    "More detailed descriptions of inputs can be found in `/QE/PW/Doc/Input_PW.html`.\n",
    "\n",
    "Below is input creation code with ASE. We can found three new input vaules and one input card:  \n",
    "\n",
    "* `&FCP` ... This is an input card for contlolling the details of constant-$\\mu_{\\rm e}$ calculation. This card is activated by `lfcp=.true.`  \n",
    "* `lfcp` ... Activation flag for constant-$\\mu_{\\rm e}$ calculation. \n",
    "* `fcp_mu` ... This value determine the target $\\mu_{\\rm e}$ (in eV). \n",
    "* `fcp_dynamics` ... dynamics used in the calculation, which should be same as `ion_dynamics` value. \n",
    "\n",
    "In addition to the above, we use the `tot_charge = -0.01e`. \n",
    "\n",
    "\n",
    "NOTE: to decrease computational costs, we use fixed atomic positions.  "
   ]
  },
  {
   "cell_type": "code",
   "execution_count": null,
   "metadata": {},
   "outputs": [],
   "source": [
    "from ase.constraints import FixAtoms\n",
    "\n",
    "atoms = Atoms('Al4', [(2.85595455,  0.00000000,  3.49781569),\n",
    "                      (1.42797727,  0.82444307,  1.16593856),\n",
    "                      (2.85595454,  1.64888613, -1.16593856),\n",
    "                      (0.00000000,  0.00000000, -3.49781569)], \n",
    "             cell=[( 2.85595455,  0.0000000000,  0.0000000000),\n",
    "                   ( 1.42797727,  2.4733291965,  0.0000000000),\n",
    "                   ( 0.00000000,  0.0000000000, 22.9956313827)],\n",
    "              pbc=(True, True, False)\n",
    ")\n",
    "# All Al atoms are\n",
    "c = FixAtoms(mask=[atom.symbol == 'Al' for atom in atoms])\n",
    "atoms.set_constraint(c)\n",
    "\n",
    "pseudo={'Al':'Al.pbe-n-van.UPF'}\n",
    "\n",
    "input_data = {\n",
    "    'control': {\n",
    "        'calculation'        : 'relax',\n",
    "        'restart_mode'       : 'from_scratch',\n",
    "        'prefix'             : prefix,\n",
    "        'pseudo_dir'         : rjob.pseudo,\n",
    "        'outdir'             : rjob.workdir+'/tmp',\n",
    "        'tprnfor'            : True,\n",
    "        'lfcp'               : True,\n",
    "    },\n",
    "    'system': {\n",
    "        'ecutwfc'            : 20.0, \n",
    "        'ecutrho'            : 200.0,\n",
    "        'occupations'        : 'smearing',\n",
    "        'smearing'           : 'mp',\n",
    "        'degauss'            : 0.03,\n",
    "        'nosym'              : True,\n",
    "        'assume_isolated'    : 'esm',\n",
    "        'esm_bc'             : 'bc3',\n",
    "        'tot_charge'         : -0.01,      # Acceralate convergence with good starting tot_charge\n",
    "    },\n",
    "    'electrons': {\n",
    "        'mixing_beta'        : 0.5,\n",
    "    },\n",
    "    'ions': {\n",
    "        'ion_dynamics'       : 'damp',\n",
    "    },\n",
    "    'fcp': {\n",
    "        'fcp_mu'             : -2.5610, # eV -> 1.5 eV above the PZC(=-4.0610) that corresponding to negative value of workfunction at Al(111)\n",
    "        'fcp_dynamics'       : 'damp',\n",
    "    }\n",
    "}\n",
    "\n",
    "input_data_chng = {\n",
    "    rjob.prefixes[0]: {\n",
    "        'control': {\n",
    "            'prefix'     : rjob.prefixes[0],\n",
    "        },\n",
    "    },\n",
    "}\n",
    "\n",
    "for prefix in rjob.prefixes:\n",
    "    for group in input_data_chng[prefix]:\n",
    "        for name, value in input_data_chng[prefix][group].items():\n",
    "            input_data[group][name] = value\n",
    "            write(rjob.srcinp[prefix], atoms, format='espresso-in', input_data=input_data, \n",
    "                  pseudopotentials=pseudo, kpts=(8, 8, 1), koffset=(1, 1, 0))"
   ]
  },
  {
   "cell_type": "code",
   "execution_count": null,
   "metadata": {},
   "outputs": [],
   "source": [
    "rjob.submit_files(prog='pw.x', inpf=rjob.destinp, outf=rjob.destout)\n",
    "\n",
    "putfiles = [\n",
    "    rjob.srcsub,\n",
    "]\n",
    "putfiles.extend([file for file in rjob.srcinp.values()])\n",
    "putfiles.extend([file for file in rjob.srcshell.values()])\n",
    "print('Send files...')\n",
    "rjob.put_file(putfiles)\n",
    "for i in range(len(putfiles)):\n",
    "    print(f\"{putfiles[i]} --> {rjob.workdir}\")"
   ]
  },
  {
   "cell_type": "code",
   "execution_count": null,
   "metadata": {},
   "outputs": [],
   "source": [
    "rjob.submit_job()"
   ]
  },
  {
   "cell_type": "code",
   "execution_count": null,
   "metadata": {},
   "outputs": [],
   "source": [
    "rjob.remote_qstat()"
   ]
  },
  {
   "cell_type": "code",
   "execution_count": null,
   "metadata": {},
   "outputs": [],
   "source": [
    "done = {}\n",
    "for prefix in rjob.prefixes:\n",
    "    done[prefix] = False\n",
    "print(f\"  Job ID    Done\")\n",
    "for prefix in rjob.prefixes:\n",
    "    print(f\"{rjob.jobid[prefix]:^10}{done[prefix]:^10}\")\n",
    "interval = 20\n",
    "while True:\n",
    "    print(f\"...refresh after {interval} seconds...\")\n",
    "    time.sleep(interval)\n",
    "    rjob.check_job(done)\n",
    "    if all(done.values()):\n",
    "        break\n",
    "    for prefix in rjob.prefixes:\n",
    "        print(f\"{rjob.jobid[prefix]:^10}{done[prefix]:^10}\")\n",
    "for prefix in rjob.prefixes:\n",
    "    print(f\"{rjob.jobid[prefix]:^10}{done[prefix]:^10}\")\n",
    "print(\"Job done!\")\n",
    "\n",
    "getfiles = []\n",
    "getfiles.extend([file for file in rjob.destout.values()])\n",
    "getfiles.extend([file for file in rjob.destesm1.values()])\n",
    "print('Get files...')\n",
    "rjob.get_file(getfiles)\n",
    "for i in range(len(getfiles)):\n",
    "    print(\"{0} --> {1}\".format(getfiles[i], rjob.prjhome))\n",
    "\n",
    "source_dir = rjob.workdir+'/tmp/'+rjob.prefixes[0]+'.save'\n",
    "rjob.set_base(source_dir, rjob.baseesm)\n",
    "\n",
    "print(\"Preparation for esm plot is done.\")"
   ]
  },
  {
   "cell_type": "code",
   "execution_count": null,
   "metadata": {},
   "outputs": [],
   "source": [
    "pt.plot_esm1(rjob.prjhome+'/'+rjob.prefixes[0]+'.esm1',titlename='Al111 bc3 +1.5 vs PZC')"
   ]
  },
  {
   "cell_type": "markdown",
   "metadata": {},
   "source": [
    "## Al(111) surface ('bc3' boundary condition with constant-mu scheme [target_mu=-1.5 vs PZC])"
   ]
  },
  {
   "cell_type": "code",
   "execution_count": null,
   "metadata": {},
   "outputs": [],
   "source": [
    "project = 'Al-slab'\n",
    "prj_info = {\n",
    "    'project': project,\n",
    "    'homedir': os.path.expanduser('~')+'/Program',\n",
    "    'prefixes':  ['Al111_bc3_vp015'],\n",
    "}\n",
    "\n",
    "job_info = {\n",
    "    'node':     4,   \n",
    "    'mpinum':   28,  \n",
    "    'ompnum':   1,\n",
    "    'cputime':  dt.timedelta(days=0, hours=0, minutes=30),\n",
    "    'para_img': 1,\n",
    "    'para_kpt': 4,\n",
    "    'para_tsk': 1,\n",
    "    'para_bnd': 1,\n",
    "}\n",
    "\n",
    "rjob = RemoteJob(prj_info, job_info, remote='enemat')\n",
    "\n",
    "print('Connecting to RemoteHost...')\n",
    "rjob.connecthost()\n",
    "\n",
    "atoms = Atoms('Al4', [(2.85595455,  0.00000000,  3.49781569),\n",
    "                      (1.42797727,  0.82444307,  1.16593856),\n",
    "                      (2.85595454,  1.64888613, -1.16593856),\n",
    "                      (0.00000000,  0.00000000, -3.49781569)], \n",
    "             cell=[( 2.85595455,  0.0000000000,  0.0000000000),\n",
    "                   ( 1.42797727,  2.4733291965,  0.0000000000),\n",
    "                   ( 0.00000000,  0.0000000000, 22.9956313827)],\n",
    "              pbc=(True, True, False)\n",
    ")\n",
    "#c = FixAtoms(mask=[atom.symbol == 'Al' for atom in atoms])\n",
    "#atoms.set_constraint(c)\n",
    "\n",
    "pseudo={'Al':'Al.pbe-n-van.UPF'}\n",
    "\n",
    "input_data = {\n",
    "    'control': {\n",
    "        'calculation'        : 'relax',\n",
    "        'restart_mode'       : 'from_scratch',\n",
    "        'prefix'             : prefix,\n",
    "        'pseudo_dir'         : rjob.pseudo,\n",
    "        'outdir'             : rjob.workdir+'/tmp',\n",
    "        'tprnfor'            : True,\n",
    "        'lfcp'               : True,\n",
    "    },\n",
    "    'system': {\n",
    "        'ecutwfc'            : 20.0, \n",
    "        'ecutrho'            : 200.0,\n",
    "        'occupations'        : 'smearing',\n",
    "        'smearing'           : 'mp',\n",
    "        'degauss'            : 0.03,\n",
    "        'nosym'              : True,\n",
    "        'assume_isolated'    : 'esm',\n",
    "        'esm_bc'             : 'bc3',\n",
    "        'tot_charge'         : 0.01,      # Acceralate convergence with good starting tot_charge\n",
    "    },\n",
    "    'electrons': {\n",
    "        'mixing_beta'        : 0.5,\n",
    "    },\n",
    "    'ions': {\n",
    "        'ion_dynamics'       : 'damp',\n",
    "    },\n",
    "    'fcp': {\n",
    "        'fcp_mu'             : -5.5610, # eV -> 1.5 eV below the PZC(=-4.0610)\n",
    "        'fcp_dynamics'       : 'damp',\n",
    "        'freeze_all_atoms'   : True, # Another way to fix the atomic position. See above cell which uses constraint.\n",
    "    }\n",
    "}\n",
    "\n",
    "for prefix in rjob.prefixes:\n",
    "    for group in input_data_chng[prefix]:\n",
    "        for name, value in input_data_chng[prefix][group].items():\n",
    "            input_data[group][name] = value\n",
    "            write(rjob.srcinp[prefix], atoms, format='espresso-in', input_data=input_data, \n",
    "                  pseudopotentials=pseudo, kpts=(8, 8, 1), koffset=(1, 1, 0))\n",
    "            \n",
    "print('InputFile generation was done.')"
   ]
  },
  {
   "cell_type": "code",
   "execution_count": null,
   "metadata": {},
   "outputs": [],
   "source": [
    "rjob.submit_files(prog='pw.x', inpf=rjob.destinp, outf=rjob.destout)\n",
    "\n",
    "putfiles = [\n",
    "    rjob.srcsub,\n",
    "]\n",
    "putfiles.extend([file for file in rjob.srcinp.values()])\n",
    "putfiles.extend([file for file in rjob.srcshell.values()])\n",
    "print('Send files...')\n",
    "rjob.put_file(putfiles)\n",
    "for i in range(len(putfiles)):\n",
    "    print(f\"{putfiles[i]} --> {rjob.workdir}\")\n",
    "rjob.submit_job()"
   ]
  },
  {
   "cell_type": "code",
   "execution_count": null,
   "metadata": {},
   "outputs": [],
   "source": [
    "rjob.remote_qstat()"
   ]
  },
  {
   "cell_type": "code",
   "execution_count": null,
   "metadata": {},
   "outputs": [],
   "source": [
    "done = {}\n",
    "for prefix in rjob.prefixes:\n",
    "    done[prefix] = False\n",
    "print(f\"  Job ID    Done\")\n",
    "for prefix in rjob.prefixes:\n",
    "    print(f\"{rjob.jobid[prefix]:^10}{done[prefix]:^10}\")\n",
    "interval = 20\n",
    "while True:\n",
    "    print(f\"...refresh after {interval} seconds...\")\n",
    "    time.sleep(interval)\n",
    "    rjob.check_job(done)\n",
    "    if all(done.values()):\n",
    "        break\n",
    "    for prefix in rjob.prefixes:\n",
    "        print(f\"{rjob.jobid[prefix]:^10}{done[prefix]:^10}\")\n",
    "for prefix in rjob.prefixes:\n",
    "    print(f\"{rjob.jobid[prefix]:^10}{done[prefix]:^10}\")\n",
    "print(\"Job done!\")\n",
    "\n",
    "getfiles = []\n",
    "getfiles.extend([file for file in rjob.destout.values()])\n",
    "getfiles.extend([file for file in rjob.destesm1.values()])\n",
    "print('Get files...')\n",
    "rjob.get_file(getfiles)\n",
    "for i in range(len(getfiles)):\n",
    "    print(\"{0} --> {1}\".format(getfiles[i], rjob.prjhome))\n",
    "\n",
    "source_dir = rjob.workdir+'/tmp/'+rjob.prefixes[0]+'.save'\n",
    "rjob.set_base(source_dir, rjob.baseesm)\n",
    "\n",
    "print(\"Preparation for esm plot is done.\")\n",
    "\n",
    "FilePath=rjob.prjhome+'/'+rjob.prefixes[0]+'.esm1'\n",
    "pt.plot_esm1(FilePath,titlename='Al111 bc3 -1.5 vs PZC')"
   ]
  },
  {
   "cell_type": "markdown",
   "metadata": {},
   "source": [
    "## Differential potential"
   ]
  },
  {
   "cell_type": "code",
   "execution_count": null,
   "metadata": {},
   "outputs": [],
   "source": [
    "work_path=rjob.prjhome+'/'\n",
    "bc1 = np.loadtxt(work_path+'Al0.esm1',comments='#')\n",
    "bc2 = np.loadtxt(work_path+'Al_E.esm1',comments='#')\n",
    "bc3_vm = np.loadtxt(work_path+'Al111_bc3_m001.esm1')\n",
    "bc3_vp = np.loadtxt(work_path+'Al111_bc3_vp015.esm1')\n",
    "\n",
    "fig = plt.figure(\n",
    "    figsize   = (15, 3), # inch\n",
    "    dpi       = 100,    # dpi\n",
    "    edgecolor = 'black',\n",
    "    linewidth = '1'\n",
    ")\n",
    "\n",
    "fig.subplots_adjust(wspace=0.3, hspace=0.5,top=0.82)\n",
    "fig.suptitle('Differential potential')\n",
    "\n",
    "ax1 = fig.add_subplot(1,3,1)\n",
    "ax2 = fig.add_subplot(1,3,2)\n",
    "ax3 = fig.add_subplot(1,3,3)\n",
    "\n",
    "ax1.set_title('esm/slab/esm')\n",
    "ax1.set_xlabel('z (A)')\n",
    "ax1.set_ylabel('Delta V (eV)')\n",
    "ax2.set_title('vacuum/slab/esm')\n",
    "ax2.set_xlabel('z (A)')\n",
    "ax2.set_ylabel('Delta V (eV)')\n",
    "ax3.set_title('vacuum/slab/esm')\n",
    "ax3.set_xlabel('z (A)')\n",
    "ax3.set_ylabel('Delta V (eV)')\n",
    "\n",
    "ax1.axhline(0.0, linewidth=1, linestyle='dashed', color='black')\n",
    "ax2.axhline(0.0, linewidth=1, linestyle='dashed', color='black')\n",
    "ax3.axhline(0.0, linewidth=1, linestyle='dashed', color='black')\n",
    "\n",
    "ax1.plot(bc2[:,0], bc2[:,4]-bc1[:,4], color='black',linestyle='solid')\n",
    "ax2.plot(bc3_vm[:,0], bc3_vm[:,4]-bc1[:,4], color='black',linestyle='solid')\n",
    "ax3.plot(bc3_vp[:,0], bc3_vp[:,4]-bc1[:,4], color='black',linestyle='solid')\n",
    "#plt.tight_layout()\n",
    "plt.show()"
   ]
  },
  {
   "cell_type": "markdown",
   "metadata": {
    "toc-hr-collapsed": true
   },
   "source": [
    "# Appendix"
   ]
  },
  {
   "cell_type": "markdown",
   "metadata": {},
   "source": [
    "## Generate Al(111) surface using Materials Project"
   ]
  },
  {
   "cell_type": "code",
   "execution_count": null,
   "metadata": {},
   "outputs": [],
   "source": [
    "%matplotlib inline\n",
    "\n",
    "from pymatgen import MPRester, Composition, Element\n",
    "from pymatgen.io.ase import AseAtomsAdaptor\n",
    "import json\n",
    "import re\n",
    "import palettable\n",
    "import matplotlib as mpl\n",
    "import nglview\n",
    "from ase.visualize import view\n",
    "from ase.build import surface, cut\n",
    "from pymatgen.io.ase import AseAtomsAdaptor\n",
    "\n",
    "# atoms is the imported Atoms structure from Materials Project. \n",
    "\n",
    "MAPI_KEY = 'bezL4vEqFcOzEGCNFl7'\n",
    "rester = MPRester(MAPI_KEY)\n",
    "\n",
    "mp_entries = rester.get_entries('Al', inc_structure=True, sort_by_e_above_hull=True, property_data=['pretty_formula'])\n",
    "mp_entries[0].entry_id\n",
    "structure = rester.get_structure_by_material_id(mp_entries[0].entry_id)\n",
    "print('*** Structure(MP) ***')\n",
    "print('  ')\n",
    "print(structure)\n",
    "\n",
    "atoms = AseAtomsAdaptor.get_atoms(structure)\n",
    "atoms.pbc=(True, True, False)\n",
    "\n",
    "#print('  ')\n",
    "#print('*** Atoms object (ASE) ***')\n",
    "#print('  ')\n",
    "#print(atoms)\n",
    "#view(atoms, viewer='ngl')\n",
    "\n",
    "orientation = (1, 1, 1)\n",
    "nlayers = 4\n",
    "vacuum = 8 #angstroms\n",
    "\n",
    "s1 = surface(atoms, orientation, nlayers, vacuum=vacuum)\n",
    "s1.translate((0,0,-(np.sum(s1.positions[:,2]))/s1.positions.shape[0]))\n",
    "view(s1, viewer='ngl')\n",
    "#print('{:.3f}'.format(s1.get_positions()))\n",
    "\n",
    "#\n",
    "# Expand cell along xy-direction\n",
    "#\n",
    "\n",
    "#n1x =  2\n",
    "#n1y = -2\n",
    "#n2x =  1\n",
    "#n2y =  1\n",
    "\n",
    "# Then cut out the slab\n",
    "#large_s1 = cut(s1, (n1x,n1y,0), (n2x,n2y,0), (0,0,1) )\n",
    "#large_s1.translate((0,0,-(np.sum(large_s1.positions[:,2]))/large_s1.positions.shape[0]))\n",
    "#view(large_s1, viewer='ngl')"
   ]
  }
 ],
 "metadata": {
  "kernelspec": {
   "display_name": "Python 3 (ipykernel)",
   "language": "python",
   "name": "python3"
  },
  "language_info": {
   "codemirror_mode": {
    "name": "ipython",
    "version": 3
   },
   "file_extension": ".py",
   "mimetype": "text/x-python",
   "name": "python",
   "nbconvert_exporter": "python",
   "pygments_lexer": "ipython3",
   "version": "3.13.2"
  },
  "pycharm": {
   "stem_cell": {
    "cell_type": "raw",
    "metadata": {
     "collapsed": false
    },
    "source": []
   }
  }
 },
 "nbformat": 4,
 "nbformat_minor": 4
}
