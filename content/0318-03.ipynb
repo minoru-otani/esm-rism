{
 "cells": [
  {
   "cell_type": "markdown",
   "id": "310f6e8d-3942-4210-a480-ab8c9fa2ae10",
   "metadata": {},
   "source": [
    "# ASEを使ってQE用の構造モデル（Graphite slab, Graphene）を作成する"
   ]
  },
  {
   "cell_type": "code",
   "execution_count": null,
   "id": "b47ef0e2-ff04-4c3e-ab4c-312aae814741",
   "metadata": {},
   "outputs": [],
   "source": [
    "%matplotlib inline\n",
    "%config InlineBackend.figure_format = 'retina'\n",
    "%load_ext autoreload\n",
    "%autoreload 2"
   ]
  },
  {
   "cell_type": "code",
   "execution_count": null,
   "id": "97bf6356-e23e-4fc2-945d-f5e7696bf796",
   "metadata": {},
   "outputs": [],
   "source": [
    "import copy\n",
    "import matplotlib.pyplot as plt\n",
    "from ase import Atoms\n",
    "from ase.io import read, write\n",
    "from ase.visualize import view\n",
    "from ase.visualize.plot import plot_atoms\n",
    "from ase.constraints import FixAtoms\n",
    "from ase.io.cube import read_cube_data\n",
    "from ase.build import fcc111, graphene, add_adsorbate, molecule, cut, add_vacuum\n",
    "from ase.geometry import wrap_positions\n",
    "from ase.lattice.hexagonal import Graphite, Graphene"
   ]
  },
  {
   "cell_type": "markdown",
   "id": "09d7b655-a952-4598-a10a-449fe5744520",
   "metadata": {},
   "source": [
    "## Grapheneを使ってスラブモデルを作成する"
   ]
  },
  {
   "cell_type": "markdown",
   "id": "a6a89325-51e5-4899-b1a1-7ce00b29fdc6",
   "metadata": {},
   "source": [
    "### プリミティブセルを作る"
   ]
  },
  {
   "cell_type": "markdown",
   "id": "bcf56ad5-5d48-41c8-bc4b-b3d09ce41b4d",
   "metadata": {},
   "source": [
    "3-1で使ったbuildモジュールにある表面構造を作る関数を用いてgrapheneのモデルを作成する。"
   ]
  },
  {
   "cell_type": "code",
   "execution_count": null,
   "id": "90cc8d9b-462f-4b14-a821-9e98aceedcc8",
   "metadata": {},
   "outputs": [],
   "source": [
    "lvac = 8.0 # 左の真空領域\n",
    "rvac = 10.0 # 右の真空領域\n",
    "vac = (lvac + rvac)/2.0 # grapheneに与えるときは1/2して与える。\n",
    "gra = graphene(formula='C2', a=2.46, size=(1,1,1), vacuum=vac)\n",
    "gra.wrap() # はみ出た原子があればユニットセル内に戻す \n",
    "gra.translate((0.0,0.0,lvac - vac)) # 与えたlvac, rvacを持つようにずらす"
   ]
  },
  {
   "cell_type": "markdown",
   "id": "f47a0323-b788-41ee-81c8-baf7e0f04527",
   "metadata": {},
   "source": [
    "プロットして実際にちゃんとできているかを確認する。"
   ]
  },
  {
   "cell_type": "markdown",
   "id": "2e76b622-afba-4efa-8027-76407d517c54",
   "metadata": {},
   "source": [
    "### 大きい表面($3\\times 3\\sqrt{3}$モデル)を作る。"
   ]
  },
  {
   "cell_type": "markdown",
   "id": "c4e3e347-e6fc-429a-b429-041e9d2225c8",
   "metadata": {},
   "source": [
    "グラフェンのユニットセルを$\\boldsymbol{a}=(a,0)$, $\\boldsymbol{b}=(-\\frac{1}{2}a, \\frac{\\sqrt{3}}{2}a)$に対して、新しい表面のユニットセルを$\\boldsymbol{A}=\\ell_1\\boldsymbol{a}+m_1\\boldsymbol{b}$, $\\boldsymbol{B}=\\ell_2\\boldsymbol{a}+m_2\\boldsymbol{b}$で定義すれば良い。新たな$(\\ell_1, m_1)$, $(\\ell_2, m_2)$を与えて、cut関数を使う。$\\ell_1=3$, $m_1=0$及び、$\\ell_2=3$, $m_2=6$を入れれば良い。"
   ]
  },
  {
   "cell_type": "code",
   "execution_count": null,
   "id": "5a8cd028-cfc8-45bf-b42f-a3e6b459cd6b",
   "metadata": {},
   "outputs": [],
   "source": [
    "slab_sqrt3 = cut(gra, a=(3, 0, 0), b=(3, 6, 0), c=(0, 0, 1))"
   ]
  },
  {
   "cell_type": "code",
   "execution_count": null,
   "id": "515a77ba-f266-4ebd-96b3-cb08e6127142",
   "metadata": {},
   "outputs": [],
   "source": [
    "fig, ax = plt.subplots(2,1, figsize=(6, 6))\n",
    "ax[0].set_axis_off()\n",
    "ax[1].set_axis_off()\n",
    "plot_atoms(slab_sqrt3, ax[0], radii=0.5, rotation=('0x,0y,0z'))\n",
    "plot_atoms(slab_sqrt3, ax[1], radii=0.5, rotation=('90x,90y,90z'))\n",
    "plt.show()"
   ]
  },
  {
   "cell_type": "markdown",
   "id": "d20bd610-323d-4bef-91f7-acb1d9a623e5",
   "metadata": {},
   "source": [
    "## Grapheneが積層されたスラブモデルを作る。"
   ]
  },
  {
   "cell_type": "markdown",
   "id": "82f88443-d5a8-4e37-a264-14e2dda979dc",
   "metadata": {
    "tags": []
   },
   "source": [
    "### AB-stacking graphiteスラブを作る"
   ]
  },
  {
   "cell_type": "markdown",
   "id": "c4148201-6f82-4465-bf00-864b0efbe43d",
   "metadata": {},
   "source": [
    "まずは、lattice.hexagonalのGrpahite関数を用いてスラブを切り出す。"
   ]
  },
  {
   "cell_type": "code",
   "execution_count": null,
   "id": "8aa062c9-78bd-41cc-9d9e-a71b017f1ebd",
   "metadata": {},
   "outputs": [],
   "source": [
    "alat = 2.45 # 面内の格子ベクトル\n",
    "clat = 5.70 # 面直方向の格子ベクトル\n",
    "gra_AB = Graphite('C', latticeconstant={'a':alat, 'c':clat}, size=(1,1,1))"
   ]
  },
  {
   "cell_type": "markdown",
   "id": "71dabfbf-e59e-43da-a37d-bef43a1f0380",
   "metadata": {},
   "source": [
    "格子ベクトル、原子座標を確認する。"
   ]
  },
  {
   "cell_type": "code",
   "execution_count": null,
   "id": "0ddd62b9-9b77-4098-8a9b-54ddd5c753a0",
   "metadata": {},
   "outputs": [],
   "source": [
    "aobj = gra_AB\n",
    "print(f' Unit cell: a = ({aobj.cell[0,0]:9.5f}, {aobj.cell[0,1]:9.5f}, {aobj.cell[0,2]:9.5f})')\n",
    "print(f'            b = ({aobj.cell[1,0]:9.5f}, {aobj.cell[1,1]:9.5f}, {aobj.cell[1,2]:9.5f})')\n",
    "print(f'            c = ({aobj.cell[2,0]:9.5f}, {aobj.cell[2,1]:9.5f}, {aobj.cell[2,2]:9.5f})')\n",
    "print(f' Number of atoms: {len(aobj.positions):5d}')\n",
    "print(f' Species, Positions:')\n",
    "for i in range(len(aobj.positions)):\n",
    "    print(f'  \\'{aobj.symbols[i]:<2}\\' ({aobj.positions[i,0]:9.5f}, {aobj.positions[i,1]:9.5f}, {aobj.positions[i,2]:9.5f})')"
   ]
  },
  {
   "cell_type": "markdown",
   "id": "82f2cc06-d07d-459e-9011-43f0ce6aac33",
   "metadata": {
    "tags": []
   },
   "source": [
    "graからスラブを切り出す。ここでは、ABA stackingとABAB stackingのスラブの作り方を示す。"
   ]
  },
  {
   "cell_type": "code",
   "execution_count": null,
   "id": "a6f82ef3-b868-43eb-bf11-33ea2eb7e005",
   "metadata": {},
   "outputs": [],
   "source": [
    "gra_cut = cut(gra_AB, a=(1,0,0), b=(0,1,0), c=(0,0,1.5)) # ABA stackingを作る\n",
    "#gra_cut = cut(gra_AB, a=(1,0,0), b=(0,1,0), c=(0,0,2.0)) # ABAB stackingを作る"
   ]
  },
  {
   "cell_type": "markdown",
   "id": "ff5606a4-efd1-436b-bc58-12d11bbfd1e0",
   "metadata": {
    "tags": []
   },
   "source": [
    "モデルを描画して正しくスラブモデルが作成できているかを確認する。"
   ]
  },
  {
   "cell_type": "code",
   "execution_count": null,
   "id": "d0d541a2-9757-406e-95d7-83ce8058ab27",
   "metadata": {
    "tags": []
   },
   "outputs": [],
   "source": [
    "fig, ax = plt.subplots(2,1, figsize=(12, 6))\n",
    "ax[0].set_axis_off()\n",
    "ax[1].set_axis_off()\n",
    "plot_atoms(gra_cut, ax[0], radii=1.0, rotation=('0x,0y,0z'))\n",
    "plot_atoms(gra_cut, ax[1], radii=1.0, rotation=('90x,90y,90z'))\n",
    "plt.show()"
   ]
  },
  {
   "cell_type": "markdown",
   "id": "500897e6-0a99-4ade-9087-78824fe63417",
   "metadata": {
    "tags": []
   },
   "source": [
    "真空を挿入して、スラブモデルを完成させる。この時に左の真空(```lvac```)と右の真空(```rvac```)がちゃんと設定通りになるようにする。"
   ]
  },
  {
   "cell_type": "code",
   "execution_count": null,
   "id": "c39b4b77-8abe-46b8-842d-e4441d5b79ce",
   "metadata": {},
   "outputs": [],
   "source": [
    "lvac = 8.0 # 左の真空を8Aとする。\n",
    "rvac = 10.0 # 右の真空を10Aとする\n",
    "vac = (lvac+rvac)-clat/2.0 # Graphiteの格子ベクトルには余分な真空(clat/2)が含まれているので、それを引いて希望の真空厚(vac)となるようにする。\n",
    "add_vacuum(gra_cut, vac)"
   ]
  },
  {
   "cell_type": "markdown",
   "id": "fee23e4c-8a06-44d8-a638-24873b6b1299",
   "metadata": {},
   "source": [
    "ESM/ESM-RISM計算を行うために、原子座標を正しい位置にずらす。"
   ]
  },
  {
   "cell_type": "code",
   "execution_count": null,
   "id": "72f45416-8c06-47cc-b01b-99cc25ac4d59",
   "metadata": {},
   "outputs": [],
   "source": [
    "gra_ESM = copy.deepcopy(gra_cut)\n",
    "gra_ESM.translate((0.0,0.0,-(gra_cut.cell[2,2]/2.0)+lvac))"
   ]
  },
  {
   "cell_type": "markdown",
   "id": "44d6235d-af76-4099-9976-c068900aef7c",
   "metadata": {},
   "source": [
    "原子座標が正しくずらされているかを確認する。"
   ]
  },
  {
   "cell_type": "code",
   "execution_count": null,
   "id": "1f12aa46-c1ca-4cb6-b78c-17b8218dfa41",
   "metadata": {},
   "outputs": [],
   "source": [
    "aobj = gra_ESM\n",
    "print(f' Unit cell: a = ({aobj.cell[0,0]:9.5f}, {aobj.cell[0,1]:9.5f}, {aobj.cell[0,2]:9.5f})')\n",
    "print(f'            b = ({aobj.cell[1,0]:9.5f}, {aobj.cell[1,1]:9.5f}, {aobj.cell[1,2]:9.5f})')\n",
    "print(f'            c = ({aobj.cell[2,0]:9.5f}, {aobj.cell[2,1]:9.5f}, {aobj.cell[2,2]:9.5f})')\n",
    "print(f' Number of atoms: {len(aobj.positions):5d}')\n",
    "print(f' Species, Positions:')\n",
    "for i in range(len(aobj.positions)):\n",
    "    print(f'  \\'{aobj.symbols[i]:<2}\\' ({aobj.positions[i,0]:9.5f}, {aobj.positions[i,1]:9.5f}, {aobj.positions[i,2]:9.5f})')"
   ]
  },
  {
   "cell_type": "markdown",
   "id": "2382d799-21d4-4853-8098-65b169f9f25b",
   "metadata": {
    "tags": []
   },
   "source": [
    "### AA-stacking graphiteスラブを作る"
   ]
  },
  {
   "cell_type": "markdown",
   "id": "2d55960e-07e2-4d6a-86d1-57a9d8cc8848",
   "metadata": {},
   "source": [
    "AA-stackingはGraphite関数を使ってはできないので、Graphene関数を使って手動で層を足す。まずは、Grapheneに入っている原子位置を確認する。"
   ]
  },
  {
   "cell_type": "code",
   "execution_count": null,
   "id": "7b88efbe-9038-4069-8ee0-95238c48b4e3",
   "metadata": {},
   "outputs": [],
   "source": [
    "print(Graphene.bravais_basis)"
   ]
  },
  {
   "cell_type": "markdown",
   "id": "11aab2cc-0297-4bd4-9f3d-d3d064305602",
   "metadata": {},
   "source": [
    "原子１は$(0,0,0)$と$(1/3,2/3,0)$の位置に入っている。AA-stackingとなるように$(0,0,1/2)$と$(1/3,2/3,1/2)$に原子を追加する。"
   ]
  },
  {
   "cell_type": "code",
   "execution_count": null,
   "id": "d3554d59-d0cb-4f88-b6ec-4c574e0ebb23",
   "metadata": {},
   "outputs": [],
   "source": [
    "Graphene.bravais_basis.append([0,0,1/2])\n",
    "Graphene.bravais_basis.append([1/3,2/3,1/2])"
   ]
  },
  {
   "cell_type": "markdown",
   "id": "1590b669-3b90-422a-9f6b-830024977fee",
   "metadata": {},
   "source": [
    "あとは、AB-stackingと同様に層を切り出してスラブモデルを作る。"
   ]
  },
  {
   "cell_type": "code",
   "execution_count": null,
   "id": "6e1d2439-a2e2-41f3-b0d9-588585de9441",
   "metadata": {},
   "outputs": [],
   "source": [
    "alat = 2.45 # 面内の格子ベクトル\n",
    "clat = 5.70 # 面直方向の格子ベクトル\n",
    "gra_AA = Graphene('C', latticeconstant={'a':alat, 'c':clat}, size=(1,1,1))"
   ]
  },
  {
   "cell_type": "markdown",
   "id": "63624a81-3021-4830-b633-e43118e8fdd9",
   "metadata": {},
   "source": [
    "格子ベクトル、原子座標を確認する。"
   ]
  },
  {
   "cell_type": "code",
   "execution_count": null,
   "id": "797cfceb-39c0-45b8-b070-dcb6cadd70b8",
   "metadata": {},
   "outputs": [],
   "source": [
    "aobj = gra_AA\n",
    "print(f' Unit cell: a = ({aobj.cell[0,0]:9.5f}, {aobj.cell[0,1]:9.5f}, {aobj.cell[0,2]:9.5f})')\n",
    "print(f'            b = ({aobj.cell[1,0]:9.5f}, {aobj.cell[1,1]:9.5f}, {aobj.cell[1,2]:9.5f})')\n",
    "print(f'            c = ({aobj.cell[2,0]:9.5f}, {aobj.cell[2,1]:9.5f}, {aobj.cell[2,2]:9.5f})')\n",
    "print(f' Number of atoms: {len(aobj.positions):5d}')\n",
    "print(f' Species, Positions:')\n",
    "for i in range(len(aobj.positions)):\n",
    "    print(f'  \\'{aobj.symbols[i]:<2}\\' ({aobj.positions[i,0]:9.5f}, {aobj.positions[i,1]:9.5f}, {aobj.positions[i,2]:9.5f})')"
   ]
  },
  {
   "cell_type": "markdown",
   "id": "8d6b6ac2-bbcf-4164-a8b4-6e3952b34659",
   "metadata": {
    "tags": []
   },
   "source": [
    "graからスラブを切り出す。ここでは、AAA stackingスラブの作り方を示す。"
   ]
  },
  {
   "cell_type": "code",
   "execution_count": null,
   "id": "552a96e5-dd96-44bf-86b2-ffc56b1efb0c",
   "metadata": {},
   "outputs": [],
   "source": [
    "gra_cut = cut(gra_AA, a=(1,0,0), b=(0,1,0), c=(0,0,1.5)) # AAA stackingを作る"
   ]
  },
  {
   "cell_type": "markdown",
   "id": "0eb63533-7ae7-40e4-8e7c-e8b385594e4c",
   "metadata": {
    "tags": []
   },
   "source": [
    "モデルを描画して正しくスラブモデルが作成できているかを確認する。"
   ]
  },
  {
   "cell_type": "code",
   "execution_count": null,
   "id": "488ff431-228c-467c-a2c4-6b41cc06e1fe",
   "metadata": {
    "tags": []
   },
   "outputs": [],
   "source": [
    "fig, ax = plt.subplots(2,1, figsize=(12, 6))\n",
    "ax[0].set_axis_off()\n",
    "ax[1].set_axis_off()\n",
    "plot_atoms(gra_cut, ax[0], radii=1.0, rotation=('0x,0y,0z'))\n",
    "plot_atoms(gra_cut, ax[1], radii=1.0, rotation=('90x,90y,90z'))\n",
    "plt.show()"
   ]
  },
  {
   "cell_type": "markdown",
   "id": "ba2b4e6e-82b8-44fa-9db7-188fe550211d",
   "metadata": {
    "tags": []
   },
   "source": [
    "真空を挿入して、スラブモデルを完成させる。この時に左の真空(```lvac```)と右の真空(```rvac```)がちゃんと設定通りになるようにする。"
   ]
  },
  {
   "cell_type": "code",
   "execution_count": null,
   "id": "4fb63644-c6e3-488a-9aac-44f96c04edf8",
   "metadata": {},
   "outputs": [],
   "source": [
    "lvac = 8.0 # 左の真空を8Aとする。\n",
    "rvac = 10.0 # 右の真空を10Aとする\n",
    "vac = (lvac+rvac)-clat/2.0 # Graphiteの格子ベクトルには余分な真空(clat/2)が含まれているので、それを引いて希望の真空厚(vac)となるようにする。\n",
    "add_vacuum(gra_cut, vac)"
   ]
  },
  {
   "cell_type": "markdown",
   "id": "a834725b-96e8-4777-a689-80cf16259d98",
   "metadata": {},
   "source": [
    "ESM/ESM-RISM計算を行うために、原子座標を正しい位置にずらす。"
   ]
  },
  {
   "cell_type": "code",
   "execution_count": null,
   "id": "1f1791d1-6952-44b8-89bd-1e04bbfb424b",
   "metadata": {},
   "outputs": [],
   "source": [
    "gra_ESM = copy.deepcopy(gra_cut)\n",
    "gra_ESM.translate((0.0,0.0,-(gra_cut.cell[2,2]/2.0)+lvac))"
   ]
  },
  {
   "cell_type": "markdown",
   "id": "a49d5088-7521-413d-9529-6939d8ba62fc",
   "metadata": {},
   "source": [
    "原子座標が正しくずらされているかを確認する。"
   ]
  },
  {
   "cell_type": "code",
   "execution_count": null,
   "id": "8eac72cc-2f24-4d7c-8af1-ff9ea987520c",
   "metadata": {
    "tags": []
   },
   "outputs": [],
   "source": [
    "aobj = gra_ESM\n",
    "print(f' Unit cell: a = ({aobj.cell[0,0]:9.5f}, {aobj.cell[0,1]:9.5f}, {aobj.cell[0,2]:9.5f})')\n",
    "print(f'            b = ({aobj.cell[1,0]:9.5f}, {aobj.cell[1,1]:9.5f}, {aobj.cell[1,2]:9.5f})')\n",
    "print(f'            c = ({aobj.cell[2,0]:9.5f}, {aobj.cell[2,1]:9.5f}, {aobj.cell[2,2]:9.5f})')\n",
    "print(f' Number of atoms: {len(aobj.positions):5d}')\n",
    "print(f' Species, Positions:')\n",
    "for i in range(len(aobj.positions)):\n",
    "    print(f'  \\'{aobj.symbols[i]:<2}\\' ({aobj.positions[i,0]:9.5f}, {aobj.positions[i,1]:9.5f}, {aobj.positions[i,2]:9.5f})')"
   ]
  },
  {
   "cell_type": "markdown",
   "id": "0554168a-9b11-4cdc-8474-f710a7365688",
   "metadata": {},
   "source": [
    "Graphene関数を使い回すことを考えて、追加した原子を削除して元の状態に戻しておく。2原子分の座標を追加したので、Grapheneのbaravais_basisには0~3のindexの原子が入っている。元に戻すには2と3を消す必要がある。リストから要素を削除する場合は```del```を使うと便利だが、スライスの与え方に注意が必要。```del list[start:end:interval]```で与えるが、削除されるindexはstart$\\leq$index$<$endなので、3番目も削除する場合にはスライスを```[2:4]```と与える必要がある。"
   ]
  },
  {
   "cell_type": "code",
   "execution_count": null,
   "id": "17ddc145-9499-4f3e-ab73-31e2b4d7cc63",
   "metadata": {},
   "outputs": [],
   "source": [
    "del Graphene.bravais_basis[2:4:1]\n",
    "print(Graphene.bravais_basis)"
   ]
  },
  {
   "cell_type": "markdown",
   "id": "648f26ee-df8d-4ee2-a06f-3cb388306750",
   "metadata": {
    "tags": []
   },
   "source": [
    "### ABC-stacking graphiteスラブを作る"
   ]
  },
  {
   "cell_type": "markdown",
   "id": "4c4a6e81-4447-42d8-b4d0-8a22f69585f8",
   "metadata": {},
   "source": [
    "ABC-stackingもGraphite関数を使ってはできないので、Graphene関数を使って手動で層を足す。まずは、Grapheneに入っている原子位置を確認する。"
   ]
  },
  {
   "cell_type": "markdown",
   "id": "cc508259-01ed-48d8-9b8c-7785cd909499",
   "metadata": {},
   "source": [
    "Grapheneの原子位置に対して、B層$((1/3,2/3,1/3)$, $(2/3,1/3,1/3)$)を足して、さらにC層($(2/3,1/3,2/3)$と$(0,0,2/3)$に原子を追加する。"
   ]
  },
  {
   "cell_type": "code",
   "execution_count": null,
   "id": "d8d94235-b638-43a6-ae74-8e3eba44785a",
   "metadata": {},
   "outputs": [],
   "source": [
    "Graphene.bravais_basis.append([1/3, 2/3, 1/3])\n",
    "Graphene.bravais_basis.append([2/3, 1/3, 1/3])\n",
    "Graphene.bravais_basis.append([2/3, 1/3, 2/3])\n",
    "Graphene.bravais_basis.append([0, 0, 2/3])"
   ]
  },
  {
   "cell_type": "markdown",
   "id": "8ab91c8b-c210-4b96-ad29-53d5bd03002a",
   "metadata": {},
   "source": [
    "あとは、ABC-stackingと同様に層を切り出してスラブモデルを作る。"
   ]
  },
  {
   "cell_type": "code",
   "execution_count": null,
   "id": "17f49fce-1ef1-4e25-ac1f-f07075530399",
   "metadata": {},
   "outputs": [],
   "source": [
    "alat = 2.45 # 面内の格子ベクトル\n",
    "clat = 5.70 # 面直方向の格子ベクトル\n",
    "gra_ABC = Graphene('C', latticeconstant={'a':alat, 'c':clat+clat/2.0}, size=(1,1,1)) # C層が足されているので、ユニットセルも増やす"
   ]
  },
  {
   "cell_type": "markdown",
   "id": "b19e131c-4fe0-426c-85da-c24aeaff8bd5",
   "metadata": {},
   "source": [
    "格子ベクトル、原子座標を確認する。"
   ]
  },
  {
   "cell_type": "code",
   "execution_count": null,
   "id": "7871e43f-fbe7-4bb6-9eda-fb66685d38eb",
   "metadata": {},
   "outputs": [],
   "source": [
    "aobj = gra_ABC\n",
    "print(f' Unit cell: a = ({aobj.cell[0,0]:9.5f}, {aobj.cell[0,1]:9.5f}, {aobj.cell[0,2]:9.5f})')\n",
    "print(f'            b = ({aobj.cell[1,0]:9.5f}, {aobj.cell[1,1]:9.5f}, {aobj.cell[1,2]:9.5f})')\n",
    "print(f'            c = ({aobj.cell[2,0]:9.5f}, {aobj.cell[2,1]:9.5f}, {aobj.cell[2,2]:9.5f})')\n",
    "print(f' Number of atoms: {len(aobj.positions):5d}')\n",
    "print(f' Species, Positions:')\n",
    "for i in range(len(aobj.positions)):\n",
    "    print(f'  \\'{aobj.symbols[i]:<2}\\' ({aobj.positions[i,0]:9.5f}, {aobj.positions[i,1]:9.5f}, {aobj.positions[i,2]:9.5f})')"
   ]
  },
  {
   "cell_type": "markdown",
   "id": "11c21662-5f30-40b3-aa84-26401d0f8547",
   "metadata": {
    "tags": []
   },
   "source": [
    "graからスラブを切り出す。ここでは、ABCA stackingスラブの作り方を示す。"
   ]
  },
  {
   "cell_type": "code",
   "execution_count": null,
   "id": "d6c31f9d-9d9b-43cf-af48-8eb381d7b9e7",
   "metadata": {},
   "outputs": [],
   "source": [
    "gra_cut = cut(gra_ABC, a=(1,0,0), b=(0,1,0), c=(0,0,4/3)) # ABCA stackingを作る"
   ]
  },
  {
   "cell_type": "markdown",
   "id": "0ce52520-3b65-43f8-944a-3768abd841cb",
   "metadata": {
    "tags": []
   },
   "source": [
    "モデルを描画して正しくスラブモデルが作成できているかを確認する。"
   ]
  },
  {
   "cell_type": "code",
   "execution_count": null,
   "id": "969bdba5-8c19-4d16-ae43-da5a72169bce",
   "metadata": {
    "tags": []
   },
   "outputs": [],
   "source": [
    "fig, ax = plt.subplots(2,1, figsize=(12, 6))\n",
    "ax[0].set_axis_off()\n",
    "ax[1].set_axis_off()\n",
    "plot_atoms(gra_cut, ax[0], radii=1.0, rotation=('0x,0y,0z'))\n",
    "plot_atoms(gra_cut, ax[1], radii=1.0, rotation=('90x,90y,90z'))\n",
    "plt.show()"
   ]
  },
  {
   "cell_type": "markdown",
   "id": "7f635cd7-8172-4131-b863-68a7c085706e",
   "metadata": {
    "tags": []
   },
   "source": [
    "真空を挿入して、スラブモデルを完成させる。この時に左の真空(```lvac```)と右の真空(```rvac```)がちゃんと設定通りになるようにする。"
   ]
  },
  {
   "cell_type": "code",
   "execution_count": null,
   "id": "472d1445-2d5a-44ed-9ced-265b838597d6",
   "metadata": {},
   "outputs": [],
   "source": [
    "lvac = 8.0 # 左の真空を8Aとする。\n",
    "rvac = 10.0 # 右の真空を10Aとする\n",
    "vac = (lvac+rvac)-clat/2.0 # Graphiteの格子ベクトルには余分な真空(clat/2)が含まれているので、それを引いて希望の真空厚(vac)となるようにする。\n",
    "add_vacuum(gra_cut, vac)"
   ]
  },
  {
   "cell_type": "markdown",
   "id": "f135450b-5f76-4cec-849b-d096004307e6",
   "metadata": {},
   "source": [
    "ESM/ESM-RISM計算を行うために、原子座標を正しい位置にずらす。"
   ]
  },
  {
   "cell_type": "code",
   "execution_count": null,
   "id": "51f4513b-0050-4d0b-9447-bdb2c1b728e1",
   "metadata": {},
   "outputs": [],
   "source": [
    "gra_ESM = copy.deepcopy(gra_cut)\n",
    "gra_ESM.translate((0.0,0.0,-(gra_cut.cell[2,2]/2.0)+lvac))"
   ]
  },
  {
   "cell_type": "markdown",
   "id": "05ade667-5c9b-4a15-91ee-523ed429dc6e",
   "metadata": {},
   "source": [
    "原子座標が正しくずらされているかを確認する。"
   ]
  },
  {
   "cell_type": "code",
   "execution_count": null,
   "id": "1c36517b-ffa4-4d70-bec0-d1bba2851de6",
   "metadata": {
    "tags": []
   },
   "outputs": [],
   "source": [
    "aobj = gra_ESM\n",
    "print(f' Unit cell: a = ({aobj.cell[0,0]:9.5f}, {aobj.cell[0,1]:9.5f}, {aobj.cell[0,2]:9.5f})')\n",
    "print(f'            b = ({aobj.cell[1,0]:9.5f}, {aobj.cell[1,1]:9.5f}, {aobj.cell[1,2]:9.5f})')\n",
    "print(f'            c = ({aobj.cell[2,0]:9.5f}, {aobj.cell[2,1]:9.5f}, {aobj.cell[2,2]:9.5f})')\n",
    "print(f' Number of atoms: {len(aobj.positions):5d}')\n",
    "print(f' Species, Positions:')\n",
    "for i in range(len(aobj.positions)):\n",
    "    print(f'  \\'{aobj.symbols[i]:<2}\\' ({aobj.positions[i,0]:9.5f}, {aobj.positions[i,1]:9.5f}, {aobj.positions[i,2]:9.5f})')"
   ]
  },
  {
   "cell_type": "markdown",
   "id": "c566368f-2d06-4dd2-8e68-a1338f197fe8",
   "metadata": {},
   "source": [
    "# Tips"
   ]
  },
  {
   "cell_type": "markdown",
   "id": "4caca462-61b2-4ba2-a067-3b0fb343a858",
   "metadata": {},
   "source": [
    "色々な関数を使う時に何を引数に取ってくれるのか分からないことが多い。その場合はsource codeを見に行くことになるが、簡単に引数を確認するだけなら以下の方法が便利"
   ]
  },
  {
   "cell_type": "code",
   "execution_count": null,
   "id": "fc0de485-a287-42e6-b02d-877ecaaa1392",
   "metadata": {},
   "outputs": [],
   "source": [
    "from inspect import signature\n",
    "signature(Graphite)"
   ]
  },
  {
   "cell_type": "code",
   "execution_count": null,
   "id": "67b6afab-d628-4504-9ccc-3e707003bd79",
   "metadata": {},
   "outputs": [],
   "source": [
    "from inspect import signature\n",
    "signature(Graphene)"
   ]
  },
  {
   "cell_type": "code",
   "execution_count": null,
   "id": "54816fe6-9b42-4f50-a493-d9d3b92f8a1b",
   "metadata": {},
   "outputs": [],
   "source": [
    "signature(cut)"
   ]
  }
 ],
 "metadata": {
  "kernelspec": {
   "display_name": "Python 3 (ipykernel)",
   "language": "python",
   "name": "python3"
  },
  "language_info": {
   "codemirror_mode": {
    "name": "ipython",
    "version": 3
   },
   "file_extension": ".py",
   "mimetype": "text/x-python",
   "name": "python",
   "nbconvert_exporter": "python",
   "pygments_lexer": "ipython3",
   "version": "3.13.2"
  }
 },
 "nbformat": 4,
 "nbformat_minor": 5
}
