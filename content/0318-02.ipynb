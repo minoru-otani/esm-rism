{
 "cells": [
  {
   "cell_type": "markdown",
   "id": "9f821ef9",
   "metadata": {
    "tags": []
   },
   "source": [
    "# ASEを使ってQE用の構造モデル(金属スラブ、分子吸着モデル）を作成する"
   ]
  },
  {
   "cell_type": "code",
   "execution_count": null,
   "id": "1c65b944",
   "metadata": {},
   "outputs": [],
   "source": [
    "%matplotlib inline\n",
    "%config InlineBackend.figure_format = 'retina'\n",
    "%load_ext autoreload\n",
    "%autoreload 2"
   ]
  },
  {
   "cell_type": "code",
   "execution_count": null,
   "id": "82894d61",
   "metadata": {},
   "outputs": [],
   "source": [
    "import os, copy\n",
    "import numpy as np\n",
    "import nglview as nv\n",
    "import matplotlib.pyplot as plt\n",
    "import qeutil\n",
    "from qeutil import extract_structure_data, write_qe_input\n",
    "from ase import Atoms\n",
    "from ase.io import read, write\n",
    "from ase.data import atomic_masses, atomic_numbers\n",
    "from ase.visualize import view\n",
    "from ase.visualize.plot import plot_atoms\n",
    "from ase.constraints import FixAtoms\n",
    "from ase.io.cube import read_cube_data\n",
    "from ase.build import fcc111, graphene, add_adsorbate, molecule\n",
    "from ase.geometry import wrap_positions"
   ]
  },
  {
   "cell_type": "markdown",
   "id": "8325fd6a",
   "metadata": {
    "tags": []
   },
   "source": [
    "## Slabモデルを作成する\n",
    "\n",
    "ASEにはあらかじめ典型的な表面構造を作る関数が用意されている。用意されている構造をリストする。詳しくは[ase.build.surface](https://wiki.fysik.dtu.dk/ase/_modules/ase/build/surface.html)を参照。\n",
    "\n",
    "||||||||\n",
    "|---|---|---|---|---|---|---| \n",
    "|Surface|fcc(100)|fcc(110)|fcc(111)|bcc(100)|bcc(110)|bcc(111)|\n",
    "|Adsorption site|ontop, bridge<br>hollow|ontop, longbridge<br>shortbridge, hollow|ontop, bridge<br>fcc, hcp|ontop, bridge<br>hollow|ontop, longbridge<br>shortbridge, hollow|ontop|\n",
    "|Surface|hcp(0001)|hcp(10$\\bar{1}$0)|diamond(111)|diamond(100)|mx2|graphene|\n",
    "|Adsorption site|ontop, bridge<br>fcc, hcp|ontop|ontop|ontop|||"
   ]
  },
  {
   "cell_type": "markdown",
   "id": "f3a9f5e6-6e84-4a37-955a-a81e7466073b",
   "metadata": {},
   "source": [
    "### 吸着サイトの情報を見る\n",
    "\n",
    "吸着サイトの指定の仕方は二通りある：```ontop```などのキーワードを与える方法と、$(x,y)$を直接与える方法である。各表面構造関数が持っている吸着サイトは以下のように調べることができる。例として```fcc(111)```表面に用意されている吸着サイトを表示してみる。"
   ]
  },
  {
   "cell_type": "code",
   "execution_count": null,
   "id": "c1da4610-412b-4e04-b3af-85dbf6f54058",
   "metadata": {},
   "outputs": [],
   "source": [
    "slab = fcc111('Al', size=(1,1,5), vacuum=10.0)\n",
    "slab.info.get('adsorbate_info', {})"
   ]
  },
  {
   "cell_type": "markdown",
   "id": "cace6aef-c01e-4d32-8882-cf2bd73c3b82",
   "metadata": {},
   "source": [
    "このように、```ontop, bridge, fcc```および```hcp```サイトがあることが分かる。もし、あらかじめ用意されている吸着サイトがない場合は何も表示されない。"
   ]
  },
  {
   "cell_type": "code",
   "execution_count": null,
   "id": "a18bc4b3-a832-4fd4-a764-2cbca721585b",
   "metadata": {},
   "outputs": [],
   "source": [
    "slab = graphene(formula='C2', size=(1,1,1), vacuum=10.0)\n",
    "slab.info.get('adsorbate_info', {})"
   ]
  },
  {
   "cell_type": "markdown",
   "id": "4ff10fb3-6722-49d1-b4cd-d78a194915c6",
   "metadata": {},
   "source": [
    "このような場合は、直接$xy$座標を指定して吸着サイトを指定する必要がある。（詳しくは下で説明します。）"
   ]
  },
  {
   "cell_type": "markdown",
   "id": "8d6ac749",
   "metadata": {},
   "source": [
    "### fcc(111)表面を作る"
   ]
  },
  {
   "cell_type": "markdown",
   "id": "d9d976cc-d03a-470e-8877-b52953517d36",
   "metadata": {},
   "source": [
    "fcc111関数を用いて表面を作成する。```size```で表面の周期とスラブの厚みを設定できる。左右の真空の厚みはそれぞれ```lvac```と```rvac```で指定できる。"
   ]
  },
  {
   "cell_type": "code",
   "execution_count": null,
   "id": "479c9def",
   "metadata": {
    "scrolled": true
   },
   "outputs": [],
   "source": [
    "lvac = 8.0 # 左側の真空の厚み\n",
    "rvac = 10.0 # 右側の真空の厚み\n",
    "vac = (lvac + rvac)/2.0 # 表面構造関数には真空の左右の真空の厚みの半分を渡す\n",
    "slab = fcc111('Al', size=(4,4,2), vacuum=vac)\n",
    "slab.wrap() # 普通に作ると、ユニットセルをはみ出す原子があるので、ユニットセル内にwrapする。\n",
    "slab.translate((0.0,0.0,(lvac-rvac)/2.0)) # lvac, rvacを反映した位置にずらす\n",
    "fig, ax = plt.subplots(1,2, figsize=(12, 6))\n",
    "ax[0].set_axis_off()\n",
    "ax[1].set_axis_off()\n",
    "# 二次元投影図を作成\n",
    "plot_atoms(slab, ax[0], radii=1.2, rotation=('0x,0y,0z'))\n",
    "plot_atoms(slab, ax[1], radii=1.2, rotation=('90x,90y,90z'))\n",
    "plt.show()\n",
    "# NGLViewer を作成\n",
    "#view_obj = nv.show_ase(slab)\n",
    "#view_obj.clear_representations() # 既存の表現をクリア\n",
    "#view_obj.add_ball_and_stick(radius=1.0) # Ball & Stick 表示を設定 (radius=1.0)\n",
    "#view_obj.add_unitcell() # ユニットセルを表示\n",
    "#view_obj.camera = 'orthographic' # 視点を正投影 (orthographic) に変更\n",
    "#view_obj.stage.set_parameters(fogNear=100000, fogFar=1000000)  # Depth Cueing（遠くの色が薄くなる効果）を完全に無効化\n",
    "#view_obj.parameters = { # クリッピング設定を調整\n",
    "#    \"clipNear\": -100,  # クリッピング範囲を拡大\n",
    "#    \"clipFar\": 100,   # 遠くのオブジェクトが消えないようにする\n",
    "#    \"clipDist\": 0     # カメラとオブジェクトのクリッピングを最小に\n",
    "#}\n",
    "#view_obj # 表示\n",
    "#view(slab, viewer='ngl')"
   ]
  },
  {
   "cell_type": "markdown",
   "id": "a46d8744",
   "metadata": {
    "tags": []
   },
   "source": [
    "スラブが意図した通り作成できているかを```slab```の中身を見て確認する。"
   ]
  },
  {
   "cell_type": "code",
   "execution_count": null,
   "id": "1c5c965d",
   "metadata": {},
   "outputs": [],
   "source": [
    "aobj = slab\n",
    "print(f' Unit cell: a = ({aobj.cell[0,0]:9.5f}, {aobj.cell[0,1]:9.5f}, {aobj.cell[0,2]:9.5f})')\n",
    "print(f'            b = ({aobj.cell[1,0]:9.5f}, {aobj.cell[1,1]:9.5f}, {aobj.cell[1,2]:9.5f})')\n",
    "print(f'            c = ({aobj.cell[2,0]:9.5f}, {aobj.cell[2,1]:9.5f}, {aobj.cell[2,2]:9.5f})')\n",
    "print(f' Number of atoms: {len(aobj.positions):5d}')\n",
    "print(f' Species, Positions:')\n",
    "for i in range(len(aobj.positions)):\n",
    "    print(f'  \\'{aobj.symbols[i]:<2}\\' ({aobj.positions[i,0]:9.5f}, {aobj.positions[i,1]:9.5f}, {aobj.positions[i,2]:9.5f})')"
   ]
  },
  {
   "cell_type": "markdown",
   "id": "579b6037",
   "metadata": {},
   "source": [
    "### 分子吸着を考えるために分子を用意する"
   ]
  },
  {
   "cell_type": "markdown",
   "id": "8ca1dab6-a224-4478-80cd-6ba69009300a",
   "metadata": {},
   "source": [
    "二酸化炭素を作成してみる。"
   ]
  },
  {
   "cell_type": "code",
   "execution_count": null,
   "id": "3c32e542",
   "metadata": {},
   "outputs": [],
   "source": [
    "atoms_co2 = molecule('CO2')\n",
    "fig, ax = plt.subplots(1,1, figsize=(3,1.5))\n",
    "ax.set_axis_off()\n",
    "plot_atoms(atoms_co2, ax, radii=1.0, rotation=('0x,90y,0z'))\n",
    "plt.show()\n",
    "#view(atoms_co2, viewer='ngl')"
   ]
  },
  {
   "cell_type": "markdown",
   "id": "233ed90b-3613-44bf-bd0c-be578c925869",
   "metadata": {},
   "source": [
    "座標を確認する"
   ]
  },
  {
   "cell_type": "code",
   "execution_count": null,
   "id": "272c2b9c-8045-4d92-baa5-36ce326fcfd0",
   "metadata": {},
   "outputs": [],
   "source": [
    "aobj = atoms_co2\n",
    "print(f' Number of atoms: {len(aobj.positions):5d}')\n",
    "print(f' Species, Positions:')\n",
    "for i in range(len(aobj.positions)):\n",
    "    print(f'  \\'{aobj.symbols[i]:<2}\\' ({aobj.positions[i,0]:9.5f}, {aobj.positions[i,1]:9.5f}, {aobj.positions[i,2]:9.5f})')"
   ]
  },
  {
   "cell_type": "markdown",
   "id": "fda40f1d-1440-4212-b3cd-cc81e5d9a9b1",
   "metadata": {},
   "source": [
    "水分子を作成してみる。"
   ]
  },
  {
   "cell_type": "code",
   "execution_count": null,
   "id": "e0f0527a",
   "metadata": {},
   "outputs": [],
   "source": [
    "atoms_h2o = molecule('H2O')\n",
    "fig, ax = plt.subplots(1,1, figsize=(3,1.5))\n",
    "ax.set_axis_off()\n",
    "plot_atoms(atoms_h2o, ax, radii=1.0, rotation=('0x,0y,0z'))\n",
    "plt.show()"
   ]
  },
  {
   "cell_type": "markdown",
   "id": "45643bef-cbba-4870-9e59-3444aa5b8022",
   "metadata": {},
   "source": [
    "座標を確認する"
   ]
  },
  {
   "cell_type": "code",
   "execution_count": null,
   "id": "d6bca5f3-c869-47b6-9381-e8267e2136b3",
   "metadata": {},
   "outputs": [],
   "source": [
    "aobj = atoms_h2o\n",
    "print(f' Number of atoms: {len(aobj.positions):5d}')\n",
    "print(f' Species, Positions:')\n",
    "for i in range(len(aobj.positions)):\n",
    "    print(f'  \\'{aobj.symbols[i]:<2}\\' ({aobj.positions[i,0]:9.5f}, {aobj.positions[i,1]:9.5f}, {aobj.positions[i,2]:9.5f})')"
   ]
  },
  {
   "cell_type": "markdown",
   "id": "b9c42c9c",
   "metadata": {},
   "source": [
    "### 分子を表面に置く"
   ]
  },
  {
   "cell_type": "markdown",
   "id": "8446932a-760d-4a9f-9ed9-d065fcf5c87b",
   "metadata": {},
   "source": [
    "上で作った```slab```に水分子と二酸化炭素を置いてみる。まずは```fcc111```が持っている```ontop```サイトに水分子を酸素が下向きになるように置いてみる。分子を置くには```add_adsorbate```関数を使う。引数の意味は以下の通り(より詳しくは[ase.build.surface](https://wiki.fysik.dtu.dk/ase/_modules/ase/build/surface.html)を参照):<BR>\n",
    "```height```: 吸着分子の高さを指定<BR>\n",
    "```position```: 吸着位置を指定。```ontop```などのキーワードでも、直接$xy$座標を与えても良い<BR>\n",
    "```offset```: 吸着分子をずらす。表面の単位格子に対してオフセットさせる。整数値を与えると```position```で与えたサイト上に置かれるが、1/2などで別の吸着サイトへオフセットさせることも可能。<BR>\n",
    "```mol_index```: 吸着分子の```mol_index```番目の原子が吸着サイトの真上に来るように微調整する。"
   ]
  },
  {
   "cell_type": "code",
   "execution_count": null,
   "id": "571ecd8e",
   "metadata": {},
   "outputs": [],
   "source": [
    "# スラブを作成\n",
    "lvac = 8.0 # 左側の真空の厚み\n",
    "rvac = 15.0 # 右側の真空の厚み\n",
    "vac = (lvac + rvac)/2.0 # 表面構造関数には真空の左右の真空の厚みの半分を渡す\n",
    "slab = fcc111('Al', size=(4,4,2), vacuum=vac)\n",
    "slab.wrap() # 普通に作ると、ユニットセルをはみ出す原子があるので、ユニットセル内にwrapする。\n",
    "slab.translate((0.0,0.0,(lvac-rvac)/2.0)) # lvac, rvacを反映した位置にずらす\n",
    "atoms_h2o.rotate(180, 'x', center=(0,0,0)) # 酸素が下になるように回転させる。\n",
    "# ```ontop```サイトの上に水分子を置く\n",
    "add_adsorbate(slab,atoms_h2o,height=5.0, position='ontop', offset=(0, 0), mol_index=0)\n",
    "add_adsorbate(slab,atoms_co2,height=5.0, position='ontop', offset=(1, 2), mol_index=0)\n",
    "fig, ax = plt.subplots(2,1, figsize=(12, 6))\n",
    "ax[0].set_axis_off()\n",
    "ax[1].set_axis_off()\n",
    "plot_atoms(slab, ax[0], radii=1.2, rotation=('0x,0y,0z'))\n",
    "plot_atoms(slab, ax[1], radii=1.2, rotation=('90x,90y,90z'))\n",
    "plt.show()"
   ]
  },
  {
   "cell_type": "markdown",
   "id": "d185468e",
   "metadata": {
    "tags": []
   },
   "source": [
    "### ESM/ESM-RISM計算用にスラブをずらす"
   ]
  },
  {
   "cell_type": "markdown",
   "id": "ae780a95-9aa8-4c39-9b7e-004bb59cba84",
   "metadata": {},
   "source": [
    "上のスラブの例ではユニットセルが、$z=0$から$z=L_z$だと思って原子を配置している。ここで、$L_z$は$z$軸方向のユニットセルの大きさを表す。ESMやESM-RISM計算ではユニットセルの位置が$-L_z/2$から$L_z/2$として原子を配置する必要がある。そこで、ESM/ESM-RISM計算用のインプットを作るために、原子位置を$L_z/2$だけ左にずらす。"
   ]
  },
  {
   "cell_type": "code",
   "execution_count": null,
   "id": "c46319f3",
   "metadata": {},
   "outputs": [],
   "source": [
    "slab_ESM = copy.deepcopy(slab)\n",
    "slab_ESM.translate((0.0,0.0,-slab.cell[2,2]/2.0)) # shift atoms to fit ESM/ESM-RISM model\n",
    "#fig, ax = plt.subplots(2,1, figsize=(12, 6))\n",
    "#ax[0].set_axis_off()\n",
    "#ax[1].set_axis_off()\n",
    "#plot_atoms(slab_ESM, ax[0], radii=1.0, rotation=('0x,0y,0z'))\n",
    "#plot_atoms(slab_ESM, ax[1], radii=1.0, rotation=('90x,90y,90z'))\n",
    "#plt.show()"
   ]
  },
  {
   "cell_type": "markdown",
   "id": "d9d2003c",
   "metadata": {
    "tags": []
   },
   "source": [
    "原子座標などを確認する。ここで、確認することは、\n",
    "- スラブの左端の原子の$z$座標が$-L_z/2+$ ```lvac```となっているか。\n",
    "- スラブの右端の原子の$z$座標が$L_z/2-$ ```rvac```となっているか。\n",
    "- 分子を吸着している場合は、吸着分子の右端の原子から$L_z/2$までに十分な真空領域が確保されているか。（最低でも8Aは必要）"
   ]
  },
  {
   "cell_type": "code",
   "execution_count": null,
   "id": "7e35333d",
   "metadata": {},
   "outputs": [],
   "source": [
    "aobj = slab_ESM\n",
    "print(f' Unit cell: a = ({aobj.cell[0,0]:9.5f}, {aobj.cell[0,1]:9.5f}, {aobj.cell[0,2]:9.5f})')\n",
    "print(f'            b = ({aobj.cell[1,0]:9.5f}, {aobj.cell[1,1]:9.5f}, {aobj.cell[1,2]:9.5f})')\n",
    "print(f'            c = ({aobj.cell[2,0]:9.5f}, {aobj.cell[2,1]:9.5f}, {aobj.cell[2,2]:9.5f})')\n",
    "print(f' Number of atoms: {len(aobj.positions):5d}')\n",
    "print(f' Species, Positions:')\n",
    "for i in range(len(aobj.positions)):\n",
    "    print(f'  \\'{aobj.symbols[i]:<2}\\' ({aobj.positions[i,0]:9.5f}, {aobj.positions[i,1]:9.5f}, {aobj.positions[i,2]:9.5f})')"
   ]
  },
  {
   "cell_type": "markdown",
   "id": "e7b5393b",
   "metadata": {
    "tags": []
   },
   "source": [
    "# ESM用のインプットファイルを作成する。"
   ]
  },
  {
   "cell_type": "code",
   "execution_count": null,
   "id": "32640418",
   "metadata": {},
   "outputs": [],
   "source": [
    "input_data = {\n",
    "    'control': {\n",
    "        'calculation': 'scf',\n",
    "        'restart_mode': 'from_scratch',\n",
    "        'prefix': 'Al100_bc1',\n",
    "        'disk_io': 'low',\n",
    "        'lfcp': True,\n",
    "        'trism': True,\n",
    "    },\n",
    "    'system': {\n",
    "        'ibrav': 0,\n",
    "        'ecutwfc': 20,\n",
    "        'ecutrho': 160,\n",
    "        'occupations' : 'smearing',\n",
    "        'smearing':'mp',\n",
    "        'degauss' : 0.03,\n",
    "        'assume_isolated': 'esm',\n",
    "        'esm_bc': 'bc1'\n",
    "    },\n",
    "    'electrons': {\n",
    "        'mixing_beta': 0.3,\n",
    "    },\n",
    "    'fcp': {\n",
    "        'fcp_mu': -3.5\n",
    "    }\n",
    "}\n",
    "structure_data = extract_structure_data(slab_ESM)\n",
    "#pseudopotentials = {'Al':'Al.pbe-n-van.UPF'}\n",
    "pseudopotentials = {\n",
    "    'Al': 'Al.pbe-n-van.UPF',\n",
    "    'H': 'H.pbe-rrkjus.UPF',\n",
    "    'C': 'C.pbe-rrkjus.UPF',\n",
    "    'O': 'O.pbe-n-rrkjus.UPF'\n",
    "}\n",
    "atomic_species = {\n",
    "    elem: (atomic_masses[atomic_numbers[elem]], pseudopotentials[elem])\n",
    "    for elem in pseudopotentials\n",
    "}\n",
    "inpfile = 'test.in'\n",
    "write_qe_input(input_data, atomic_species, structure_data, filename=inpfile, kpts=(16, 16, 1), koffset=(1, 1, 0)) \n",
    "ciffile = os.path.splitext(inpfile)[0] + \".cif\" # CIF ファイル名を `inpfile` から生成\n",
    "write(ciffile, slab) # CIF ファイルを出力(ESM用のshiftをしていない構造）\n",
    "print(f\"CIF file '{ciffile}' has been generated.\")"
   ]
  }
 ],
 "metadata": {
  "kernelspec": {
   "display_name": "Python 3 (ipykernel)",
   "language": "python",
   "name": "python3"
  },
  "language_info": {
   "codemirror_mode": {
    "name": "ipython",
    "version": 3
   },
   "file_extension": ".py",
   "mimetype": "text/x-python",
   "name": "python",
   "nbconvert_exporter": "python",
   "pygments_lexer": "ipython3",
   "version": "3.13.2"
  }
 },
 "nbformat": 4,
 "nbformat_minor": 5
}
